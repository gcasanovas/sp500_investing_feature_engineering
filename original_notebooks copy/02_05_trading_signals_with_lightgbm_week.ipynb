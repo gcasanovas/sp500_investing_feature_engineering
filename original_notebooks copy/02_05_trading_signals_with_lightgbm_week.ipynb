{
 "cells": [
  {
   "cell_type": "markdown",
   "metadata": {
    "id": "e8EU38ORB7VU"
   },
   "source": [
    "# Generating trading signals with LightGBM"
   ]
  },
  {
   "cell_type": "markdown",
   "metadata": {
    "id": "4bUsIA8dB7VY"
   },
   "source": [
    "## Imports & Settings"
   ]
  },
  {
   "cell_type": "code",
   "execution_count": 122,
   "metadata": {
    "id": "PcXV6SQ8B7VY"
   },
   "outputs": [],
   "source": [
    "import warnings\n",
    "\n",
    "warnings.filterwarnings(\"ignore\")"
   ]
  },
  {
   "cell_type": "code",
   "execution_count": 123,
   "metadata": {
    "id": "aiXFWchKB7Va"
   },
   "outputs": [],
   "source": [
    "#!pip install lightgbm==3.3.2\n",
    "#!pip install catboost==1.0.5"
   ]
  },
  {
   "cell_type": "code",
   "execution_count": 124,
   "metadata": {
    "id": "PsdfWpdcB7Va"
   },
   "outputs": [],
   "source": [
    "%matplotlib inline\n",
    "\n",
    "import os\n",
    "import sys\n",
    "from collections import defaultdict\n",
    "from itertools import product\n",
    "from pathlib import Path\n",
    "from time import time\n",
    "\n",
    "import lightgbm as lgb\n",
    "import matplotlib.pyplot as plt\n",
    "import numpy as np\n",
    "import pandas as pd\n",
    "import seaborn as sns\n",
    "from alphalens.tears import create_full_tear_sheet, create_summary_tear_sheet\n",
    "from alphalens.utils import get_clean_factor_and_forward_returns\n",
    "from catboost import CatBoostRegressor, Pool\n",
    "from scipy.stats import spearmanr\n",
    "from sklearn.linear_model import LinearRegression"
   ]
  },
  {
   "cell_type": "code",
   "execution_count": 125,
   "metadata": {
    "id": "Gl-CHtgBB7Vb"
   },
   "outputs": [],
   "source": [
    "np.random.seed(42)"
   ]
  },
  {
   "cell_type": "code",
   "execution_count": 126,
   "metadata": {
    "id": "S0DN2db2B7Vb"
   },
   "outputs": [],
   "source": [
    "sys.path.insert(1, os.path.join(sys.path[0], \"..\"))\n",
    "from utils import MultipleTimeSeriesCV, format_time"
   ]
  },
  {
   "cell_type": "code",
   "execution_count": 127,
   "metadata": {
    "id": "LQiZGACEB7Vc"
   },
   "outputs": [],
   "source": [
    "sns.set_style(\"whitegrid\")"
   ]
  },
  {
   "cell_type": "markdown",
   "metadata": {
    "id": "3FE780-BB7Ve"
   },
   "source": [
    "## Algunas declaraciones iniciales"
   ]
  },
  {
   "cell_type": "code",
   "execution_count": 128,
   "metadata": {
    "id": "XSjTjgmxB7Ve"
   },
   "outputs": [],
   "source": [
    "# decimos si queremos datos semanales o no\n",
    "datos_semanales = 1"
   ]
  },
  {
   "cell_type": "code",
   "execution_count": 129,
   "metadata": {
    "id": "l9y7RT1bB7Vk"
   },
   "outputs": [],
   "source": [
    "# para cambiar los datos de validación\n",
    "years_val = 12"
   ]
  },
  {
   "cell_type": "code",
   "execution_count": 130,
   "metadata": {
    "id": "S5LG2nUyB7Vf"
   },
   "outputs": [],
   "source": [
    "# YEAR = 252\n",
    "YEAR = 12\n",
    "if datos_semanales == 1:\n",
    "    YEAR = 52\n",
    "\n",
    "idx = pd.IndexSlice"
   ]
  },
  {
   "cell_type": "code",
   "execution_count": 131,
   "metadata": {
    "id": "l8agzrASB7Vf"
   },
   "outputs": [],
   "source": [
    "# si queremos borrar los datos anteriores, si no, poner borrado = False\n",
    "borrado = True"
   ]
  },
  {
   "cell_type": "markdown",
   "metadata": {
    "id": "FOIjJTrZB7Vg"
   },
   "source": [
    "## Get Data (for train & validation period)"
   ]
  },
  {
   "cell_type": "markdown",
   "metadata": {
    "id": "61CNYL1OB7Vg"
   },
   "source": [
    "We select the train and validation sets, and identify labels and features:"
   ]
  },
  {
   "cell_type": "code",
   "execution_count": 132,
   "metadata": {
    "id": "UPhnfKvDB7Vg"
   },
   "outputs": [],
   "source": [
    "DATA_STORE = \"../data/assets.h5\""
   ]
  },
  {
   "cell_type": "code",
   "execution_count": 133,
   "metadata": {
    "id": "FJj3Y4aYB7Vh"
   },
   "outputs": [],
   "source": [
    "with pd.HDFStore(DATA_STORE) as store:\n",
    "    data = (\n",
    "        store[\"engineered_features\"].sort_index().loc[idx[:, :\"2018\"], :]\n",
    "    )  # train & validation period"
   ]
  },
  {
   "cell_type": "code",
   "execution_count": 134,
   "metadata": {
    "id": "_m668iW1B7Vh"
   },
   "outputs": [],
   "source": [
    "results_path = Path(\"..\", \"data\", \"results\", \"us_stocks\")\n",
    "\n",
    "if not results_path.exists():\n",
    "    results_path.mkdir(parents=True)"
   ]
  },
  {
   "cell_type": "code",
   "execution_count": 135,
   "metadata": {
    "id": "Q-z8y_90B7Vh",
    "outputId": "064fd16b-e2d2-4213-f0b9-94d026836ae3"
   },
   "outputs": [
    {
     "name": "stdout",
     "output_type": "stream",
     "text": [
      "<class 'pandas.core.frame.DataFrame'>\n",
      "MultiIndex: 8937 entries, ('XLB', Timestamp('1999-12-26 00:00:00')) to ('XLY', Timestamp('2018-12-30 00:00:00'))\n",
      "Data columns (total 89 columns):\n",
      " #   Column                     Non-Null Count  Dtype  \n",
      "---  ------                     --------------  -----  \n",
      " 0   return_1w                  8469 non-null   float64\n",
      " 1   return_2w                  8469 non-null   float64\n",
      " 2   return_3w                  8469 non-null   float64\n",
      " 3   return_6w                  8469 non-null   float64\n",
      " 4   return_12w                 8469 non-null   float64\n",
      " 5   return_52w                 8469 non-null   float64\n",
      " 6   const                      7875 non-null   float64\n",
      " 7   Mkt-RF                     7875 non-null   float64\n",
      " 8   SMB                        7875 non-null   float64\n",
      " 9   HML                        7875 non-null   float64\n",
      " 10  RMW                        7875 non-null   float64\n",
      " 11  CMA                        7875 non-null   float64\n",
      " 12  const_diff                 8806 non-null   float64\n",
      " 13  Mkt-RF_diff                8806 non-null   float64\n",
      " 14  SMB_diff                   8806 non-null   float64\n",
      " 15  HML_diff                   8806 non-null   float64\n",
      " 16  RMW_diff                   8806 non-null   float64\n",
      " 17  CMA_diff                   8806 non-null   float64\n",
      " 18  momentum_2                 8469 non-null   float64\n",
      " 19  momentum_3                 8469 non-null   float64\n",
      " 20  momentum_6                 8469 non-null   float64\n",
      " 21  momentum_12                8469 non-null   float64\n",
      " 22  momentum_52                8469 non-null   float64\n",
      " 23  momentum_3_12              8469 non-null   float64\n",
      " 24  month                      8937 non-null   int32  \n",
      " 25  sector                     8937 non-null   object \n",
      " 26  return_1w_t-1              8460 non-null   float64\n",
      " 27  return_1w_t-2              8451 non-null   float64\n",
      " 28  return_1w_t-3              8442 non-null   float64\n",
      " 29  return_1w_t-4              8433 non-null   float64\n",
      " 30  return_1w_t-5              8424 non-null   float64\n",
      " 31  return_1w_t-6              8415 non-null   float64\n",
      " 32  target_1w                  8478 non-null   float64\n",
      " 33  target_2w                  8487 non-null   float64\n",
      " 34  target_3w                  8496 non-null   float64\n",
      " 35  target_6w                  8523 non-null   float64\n",
      " 36  target_12w                 8577 non-null   float64\n",
      " 37  recession                  8937 non-null   float64\n",
      " 38  yield_curve                8937 non-null   float64\n",
      " 39  corp_oas                   8937 non-null   float64\n",
      " 40  hy_oas                     8937 non-null   float64\n",
      " 41  eu_hy_oas                  8937 non-null   float64\n",
      " 42  sentiment                  8937 non-null   float64\n",
      " 43  real_gdp                   8937 non-null   float64\n",
      " 44  oil                        8937 non-null   float64\n",
      " 45  inflacion                  8937 non-null   float64\n",
      " 46  leading                    8937 non-null   float64\n",
      " 47  vix                        8937 non-null   float64\n",
      " 48  vixoil                     8937 non-null   float64\n",
      " 49  weekjobclaims              8937 non-null   float64\n",
      " 50  retail_sales_percent       8937 non-null   float64\n",
      " 51  retail_sales               8937 non-null   float64\n",
      " 52  1y_yield                   8937 non-null   float64\n",
      " 53  recession_diff             8937 non-null   float64\n",
      " 54  recession_chg              8937 non-null   float64\n",
      " 55  yield_curve_diff           8937 non-null   float64\n",
      " 56  yield_curve_chg            8937 non-null   float64\n",
      " 57  corp_oas_diff              8937 non-null   float64\n",
      " 58  corp_oas_chg               8937 non-null   float64\n",
      " 59  hy_oas_diff                8937 non-null   float64\n",
      " 60  hy_oas_chg                 8937 non-null   float64\n",
      " 61  eu_hy_oas_diff             8937 non-null   float64\n",
      " 62  eu_hy_oas_chg              8937 non-null   float64\n",
      " 63  sentiment_diff             8937 non-null   float64\n",
      " 64  sentiment_chg              8937 non-null   float64\n",
      " 65  empleo_diff                8937 non-null   float64\n",
      " 66  empleo_chg                 8937 non-null   float64\n",
      " 67  real_gdp_diff              8937 non-null   float64\n",
      " 68  real_gdp_chg               8937 non-null   float64\n",
      " 69  oil_diff                   8937 non-null   float64\n",
      " 70  oil_chg                    8937 non-null   float64\n",
      " 71  inflacion_diff             8937 non-null   float64\n",
      " 72  inflacion_chg              8937 non-null   float64\n",
      " 73  leading_diff               8937 non-null   float64\n",
      " 74  leading_chg                8937 non-null   float64\n",
      " 75  vix_diff                   8937 non-null   float64\n",
      " 76  vix_chg                    8937 non-null   float64\n",
      " 77  vixoil_diff                8937 non-null   float64\n",
      " 78  vixoil_chg                 8937 non-null   float64\n",
      " 79  weekjobclaims_diff         8937 non-null   float64\n",
      " 80  weekjobclaims_chg          8937 non-null   float64\n",
      " 81  retail_sales_percent_diff  8937 non-null   float64\n",
      " 82  retail_sales_percent_chg   8937 non-null   float64\n",
      " 83  retail_sales_diff          8937 non-null   float64\n",
      " 84  retail_sales_chg           8937 non-null   float64\n",
      " 85  us_asset_balance_diff      8937 non-null   float64\n",
      " 86  us_asset_balance_chg       8937 non-null   float64\n",
      " 87  1y_yield_diff              8937 non-null   float64\n",
      " 88  1y_yield_chg               8937 non-null   float64\n",
      "dtypes: float64(87), int32(1), object(1)\n",
      "memory usage: 6.1+ MB\n"
     ]
    }
   ],
   "source": [
    "data.info()"
   ]
  },
  {
   "cell_type": "code",
   "execution_count": 136,
   "metadata": {
    "id": "f-cPva76B7Vi",
    "outputId": "5c176f29-eba5-4432-a693-5bbff2d3952a"
   },
   "outputs": [
    {
     "data": {
      "text/html": [
       "<div>\n",
       "<style scoped>\n",
       "    .dataframe tbody tr th:only-of-type {\n",
       "        vertical-align: middle;\n",
       "    }\n",
       "\n",
       "    .dataframe tbody tr th {\n",
       "        vertical-align: top;\n",
       "    }\n",
       "\n",
       "    .dataframe thead th {\n",
       "        text-align: right;\n",
       "    }\n",
       "</style>\n",
       "<table border=\"1\" class=\"dataframe\">\n",
       "  <thead>\n",
       "    <tr style=\"text-align: right;\">\n",
       "      <th></th>\n",
       "      <th></th>\n",
       "      <th>return_1w</th>\n",
       "      <th>return_2w</th>\n",
       "      <th>return_3w</th>\n",
       "      <th>return_6w</th>\n",
       "      <th>return_12w</th>\n",
       "      <th>return_52w</th>\n",
       "      <th>const</th>\n",
       "      <th>Mkt-RF</th>\n",
       "      <th>SMB</th>\n",
       "      <th>HML</th>\n",
       "      <th>...</th>\n",
       "      <th>weekjobclaims_diff</th>\n",
       "      <th>weekjobclaims_chg</th>\n",
       "      <th>retail_sales_percent_diff</th>\n",
       "      <th>retail_sales_percent_chg</th>\n",
       "      <th>retail_sales_diff</th>\n",
       "      <th>retail_sales_chg</th>\n",
       "      <th>us_asset_balance_diff</th>\n",
       "      <th>us_asset_balance_chg</th>\n",
       "      <th>1y_yield_diff</th>\n",
       "      <th>1y_yield_chg</th>\n",
       "    </tr>\n",
       "    <tr>\n",
       "      <th>ticker</th>\n",
       "      <th>date</th>\n",
       "      <th></th>\n",
       "      <th></th>\n",
       "      <th></th>\n",
       "      <th></th>\n",
       "      <th></th>\n",
       "      <th></th>\n",
       "      <th></th>\n",
       "      <th></th>\n",
       "      <th></th>\n",
       "      <th></th>\n",
       "      <th></th>\n",
       "      <th></th>\n",
       "      <th></th>\n",
       "      <th></th>\n",
       "      <th></th>\n",
       "      <th></th>\n",
       "      <th></th>\n",
       "      <th></th>\n",
       "      <th></th>\n",
       "      <th></th>\n",
       "      <th></th>\n",
       "    </tr>\n",
       "  </thead>\n",
       "  <tbody>\n",
       "    <tr>\n",
       "      <th rowspan=\"50\" valign=\"top\">XLB</th>\n",
       "      <th>1999-12-26</th>\n",
       "      <td>NaN</td>\n",
       "      <td>NaN</td>\n",
       "      <td>NaN</td>\n",
       "      <td>NaN</td>\n",
       "      <td>NaN</td>\n",
       "      <td>NaN</td>\n",
       "      <td>NaN</td>\n",
       "      <td>NaN</td>\n",
       "      <td>NaN</td>\n",
       "      <td>NaN</td>\n",
       "      <td>...</td>\n",
       "      <td>-19000.0</td>\n",
       "      <td>-0.066202</td>\n",
       "      <td>0.8</td>\n",
       "      <td>0.571429</td>\n",
       "      <td>5164.0</td>\n",
       "      <td>0.022028</td>\n",
       "      <td>5.0</td>\n",
       "      <td>0.000008</td>\n",
       "      <td>0.03</td>\n",
       "      <td>0.005059</td>\n",
       "    </tr>\n",
       "    <tr>\n",
       "      <th>2000-01-02</th>\n",
       "      <td>NaN</td>\n",
       "      <td>NaN</td>\n",
       "      <td>NaN</td>\n",
       "      <td>NaN</td>\n",
       "      <td>NaN</td>\n",
       "      <td>NaN</td>\n",
       "      <td>NaN</td>\n",
       "      <td>NaN</td>\n",
       "      <td>NaN</td>\n",
       "      <td>NaN</td>\n",
       "      <td>...</td>\n",
       "      <td>18000.0</td>\n",
       "      <td>0.067164</td>\n",
       "      <td>-3.1</td>\n",
       "      <td>-1.409091</td>\n",
       "      <td>-2048.0</td>\n",
       "      <td>-0.008548</td>\n",
       "      <td>5.0</td>\n",
       "      <td>0.000008</td>\n",
       "      <td>0.02</td>\n",
       "      <td>0.003356</td>\n",
       "    </tr>\n",
       "    <tr>\n",
       "      <th>2000-01-09</th>\n",
       "      <td>NaN</td>\n",
       "      <td>NaN</td>\n",
       "      <td>NaN</td>\n",
       "      <td>NaN</td>\n",
       "      <td>NaN</td>\n",
       "      <td>NaN</td>\n",
       "      <td>NaN</td>\n",
       "      <td>NaN</td>\n",
       "      <td>NaN</td>\n",
       "      <td>NaN</td>\n",
       "      <td>...</td>\n",
       "      <td>12000.0</td>\n",
       "      <td>0.041958</td>\n",
       "      <td>-3.1</td>\n",
       "      <td>-1.409091</td>\n",
       "      <td>-2048.0</td>\n",
       "      <td>-0.008548</td>\n",
       "      <td>5.0</td>\n",
       "      <td>0.000008</td>\n",
       "      <td>0.02</td>\n",
       "      <td>0.003344</td>\n",
       "    </tr>\n",
       "    <tr>\n",
       "      <th>2000-01-16</th>\n",
       "      <td>NaN</td>\n",
       "      <td>NaN</td>\n",
       "      <td>NaN</td>\n",
       "      <td>NaN</td>\n",
       "      <td>NaN</td>\n",
       "      <td>NaN</td>\n",
       "      <td>NaN</td>\n",
       "      <td>NaN</td>\n",
       "      <td>NaN</td>\n",
       "      <td>NaN</td>\n",
       "      <td>...</td>\n",
       "      <td>-9000.0</td>\n",
       "      <td>-0.030201</td>\n",
       "      <td>-3.1</td>\n",
       "      <td>-1.409091</td>\n",
       "      <td>-2048.0</td>\n",
       "      <td>-0.008548</td>\n",
       "      <td>5.0</td>\n",
       "      <td>0.000008</td>\n",
       "      <td>0.13</td>\n",
       "      <td>0.021667</td>\n",
       "    </tr>\n",
       "    <tr>\n",
       "      <th>2000-01-23</th>\n",
       "      <td>NaN</td>\n",
       "      <td>NaN</td>\n",
       "      <td>NaN</td>\n",
       "      <td>NaN</td>\n",
       "      <td>NaN</td>\n",
       "      <td>NaN</td>\n",
       "      <td>NaN</td>\n",
       "      <td>NaN</td>\n",
       "      <td>NaN</td>\n",
       "      <td>NaN</td>\n",
       "      <td>...</td>\n",
       "      <td>-5000.0</td>\n",
       "      <td>-0.017301</td>\n",
       "      <td>-3.1</td>\n",
       "      <td>-1.409091</td>\n",
       "      <td>-2048.0</td>\n",
       "      <td>-0.008548</td>\n",
       "      <td>5.0</td>\n",
       "      <td>0.000008</td>\n",
       "      <td>-0.01</td>\n",
       "      <td>-0.001631</td>\n",
       "    </tr>\n",
       "    <tr>\n",
       "      <th>2000-01-30</th>\n",
       "      <td>NaN</td>\n",
       "      <td>NaN</td>\n",
       "      <td>NaN</td>\n",
       "      <td>NaN</td>\n",
       "      <td>NaN</td>\n",
       "      <td>NaN</td>\n",
       "      <td>NaN</td>\n",
       "      <td>NaN</td>\n",
       "      <td>NaN</td>\n",
       "      <td>NaN</td>\n",
       "      <td>...</td>\n",
       "      <td>1000.0</td>\n",
       "      <td>0.003521</td>\n",
       "      <td>-3.1</td>\n",
       "      <td>-1.409091</td>\n",
       "      <td>-2048.0</td>\n",
       "      <td>-0.008548</td>\n",
       "      <td>5.0</td>\n",
       "      <td>0.000008</td>\n",
       "      <td>0.13</td>\n",
       "      <td>0.021242</td>\n",
       "    </tr>\n",
       "    <tr>\n",
       "      <th>2000-02-06</th>\n",
       "      <td>NaN</td>\n",
       "      <td>NaN</td>\n",
       "      <td>NaN</td>\n",
       "      <td>NaN</td>\n",
       "      <td>NaN</td>\n",
       "      <td>NaN</td>\n",
       "      <td>NaN</td>\n",
       "      <td>NaN</td>\n",
       "      <td>NaN</td>\n",
       "      <td>NaN</td>\n",
       "      <td>...</td>\n",
       "      <td>27000.0</td>\n",
       "      <td>0.094737</td>\n",
       "      <td>2.6</td>\n",
       "      <td>-2.888889</td>\n",
       "      <td>4000.0</td>\n",
       "      <td>0.016839</td>\n",
       "      <td>5.0</td>\n",
       "      <td>0.000008</td>\n",
       "      <td>-0.06</td>\n",
       "      <td>-0.009600</td>\n",
       "    </tr>\n",
       "    <tr>\n",
       "      <th>2000-02-13</th>\n",
       "      <td>NaN</td>\n",
       "      <td>NaN</td>\n",
       "      <td>NaN</td>\n",
       "      <td>NaN</td>\n",
       "      <td>NaN</td>\n",
       "      <td>NaN</td>\n",
       "      <td>NaN</td>\n",
       "      <td>NaN</td>\n",
       "      <td>NaN</td>\n",
       "      <td>NaN</td>\n",
       "      <td>...</td>\n",
       "      <td>-12000.0</td>\n",
       "      <td>-0.038462</td>\n",
       "      <td>2.6</td>\n",
       "      <td>-2.888889</td>\n",
       "      <td>4000.0</td>\n",
       "      <td>0.016839</td>\n",
       "      <td>5.0</td>\n",
       "      <td>0.000008</td>\n",
       "      <td>-0.02</td>\n",
       "      <td>-0.003231</td>\n",
       "    </tr>\n",
       "    <tr>\n",
       "      <th>2000-02-20</th>\n",
       "      <td>NaN</td>\n",
       "      <td>NaN</td>\n",
       "      <td>NaN</td>\n",
       "      <td>NaN</td>\n",
       "      <td>NaN</td>\n",
       "      <td>NaN</td>\n",
       "      <td>NaN</td>\n",
       "      <td>NaN</td>\n",
       "      <td>NaN</td>\n",
       "      <td>NaN</td>\n",
       "      <td>...</td>\n",
       "      <td>-17000.0</td>\n",
       "      <td>-0.056667</td>\n",
       "      <td>2.6</td>\n",
       "      <td>-2.888889</td>\n",
       "      <td>4000.0</td>\n",
       "      <td>0.016839</td>\n",
       "      <td>5.0</td>\n",
       "      <td>0.000008</td>\n",
       "      <td>0.09</td>\n",
       "      <td>0.014587</td>\n",
       "    </tr>\n",
       "    <tr>\n",
       "      <th>2000-02-27</th>\n",
       "      <td>NaN</td>\n",
       "      <td>NaN</td>\n",
       "      <td>NaN</td>\n",
       "      <td>NaN</td>\n",
       "      <td>NaN</td>\n",
       "      <td>NaN</td>\n",
       "      <td>NaN</td>\n",
       "      <td>NaN</td>\n",
       "      <td>NaN</td>\n",
       "      <td>NaN</td>\n",
       "      <td>...</td>\n",
       "      <td>-3000.0</td>\n",
       "      <td>-0.010601</td>\n",
       "      <td>2.6</td>\n",
       "      <td>-2.888889</td>\n",
       "      <td>4000.0</td>\n",
       "      <td>0.016839</td>\n",
       "      <td>5.0</td>\n",
       "      <td>0.000008</td>\n",
       "      <td>-0.08</td>\n",
       "      <td>-0.012780</td>\n",
       "    </tr>\n",
       "    <tr>\n",
       "      <th>2000-03-05</th>\n",
       "      <td>NaN</td>\n",
       "      <td>NaN</td>\n",
       "      <td>NaN</td>\n",
       "      <td>NaN</td>\n",
       "      <td>NaN</td>\n",
       "      <td>NaN</td>\n",
       "      <td>NaN</td>\n",
       "      <td>NaN</td>\n",
       "      <td>NaN</td>\n",
       "      <td>NaN</td>\n",
       "      <td>...</td>\n",
       "      <td>6000.0</td>\n",
       "      <td>0.021429</td>\n",
       "      <td>-0.5</td>\n",
       "      <td>-0.294118</td>\n",
       "      <td>2992.0</td>\n",
       "      <td>0.012387</td>\n",
       "      <td>5.0</td>\n",
       "      <td>0.000008</td>\n",
       "      <td>-0.03</td>\n",
       "      <td>-0.004854</td>\n",
       "    </tr>\n",
       "    <tr>\n",
       "      <th>2000-03-12</th>\n",
       "      <td>NaN</td>\n",
       "      <td>NaN</td>\n",
       "      <td>NaN</td>\n",
       "      <td>NaN</td>\n",
       "      <td>NaN</td>\n",
       "      <td>NaN</td>\n",
       "      <td>NaN</td>\n",
       "      <td>NaN</td>\n",
       "      <td>NaN</td>\n",
       "      <td>NaN</td>\n",
       "      <td>...</td>\n",
       "      <td>-16000.0</td>\n",
       "      <td>-0.055944</td>\n",
       "      <td>-0.5</td>\n",
       "      <td>-0.294118</td>\n",
       "      <td>2992.0</td>\n",
       "      <td>0.012387</td>\n",
       "      <td>5.0</td>\n",
       "      <td>0.000008</td>\n",
       "      <td>0.06</td>\n",
       "      <td>0.009756</td>\n",
       "    </tr>\n",
       "    <tr>\n",
       "      <th>2000-03-19</th>\n",
       "      <td>NaN</td>\n",
       "      <td>NaN</td>\n",
       "      <td>NaN</td>\n",
       "      <td>NaN</td>\n",
       "      <td>NaN</td>\n",
       "      <td>NaN</td>\n",
       "      <td>NaN</td>\n",
       "      <td>NaN</td>\n",
       "      <td>NaN</td>\n",
       "      <td>NaN</td>\n",
       "      <td>...</td>\n",
       "      <td>1000.0</td>\n",
       "      <td>0.003704</td>\n",
       "      <td>-0.5</td>\n",
       "      <td>-0.294118</td>\n",
       "      <td>2992.0</td>\n",
       "      <td>0.012387</td>\n",
       "      <td>5.0</td>\n",
       "      <td>0.000008</td>\n",
       "      <td>-0.01</td>\n",
       "      <td>-0.001610</td>\n",
       "    </tr>\n",
       "    <tr>\n",
       "      <th>2000-03-26</th>\n",
       "      <td>NaN</td>\n",
       "      <td>NaN</td>\n",
       "      <td>NaN</td>\n",
       "      <td>NaN</td>\n",
       "      <td>NaN</td>\n",
       "      <td>NaN</td>\n",
       "      <td>NaN</td>\n",
       "      <td>NaN</td>\n",
       "      <td>NaN</td>\n",
       "      <td>NaN</td>\n",
       "      <td>...</td>\n",
       "      <td>1000.0</td>\n",
       "      <td>0.003690</td>\n",
       "      <td>-0.5</td>\n",
       "      <td>-0.294118</td>\n",
       "      <td>2992.0</td>\n",
       "      <td>0.012387</td>\n",
       "      <td>5.0</td>\n",
       "      <td>0.000008</td>\n",
       "      <td>0.11</td>\n",
       "      <td>0.017742</td>\n",
       "    </tr>\n",
       "    <tr>\n",
       "      <th>2000-04-02</th>\n",
       "      <td>NaN</td>\n",
       "      <td>NaN</td>\n",
       "      <td>NaN</td>\n",
       "      <td>NaN</td>\n",
       "      <td>NaN</td>\n",
       "      <td>NaN</td>\n",
       "      <td>NaN</td>\n",
       "      <td>NaN</td>\n",
       "      <td>NaN</td>\n",
       "      <td>NaN</td>\n",
       "      <td>...</td>\n",
       "      <td>-6000.0</td>\n",
       "      <td>-0.022059</td>\n",
       "      <td>-3.2</td>\n",
       "      <td>-2.666667</td>\n",
       "      <td>-4981.0</td>\n",
       "      <td>-0.020369</td>\n",
       "      <td>5.0</td>\n",
       "      <td>0.000008</td>\n",
       "      <td>-0.03</td>\n",
       "      <td>-0.004754</td>\n",
       "    </tr>\n",
       "    <tr>\n",
       "      <th>2000-04-09</th>\n",
       "      <td>NaN</td>\n",
       "      <td>NaN</td>\n",
       "      <td>NaN</td>\n",
       "      <td>NaN</td>\n",
       "      <td>NaN</td>\n",
       "      <td>NaN</td>\n",
       "      <td>NaN</td>\n",
       "      <td>NaN</td>\n",
       "      <td>NaN</td>\n",
       "      <td>NaN</td>\n",
       "      <td>...</td>\n",
       "      <td>2000.0</td>\n",
       "      <td>0.007519</td>\n",
       "      <td>-3.2</td>\n",
       "      <td>-2.666667</td>\n",
       "      <td>-4981.0</td>\n",
       "      <td>-0.020369</td>\n",
       "      <td>5.0</td>\n",
       "      <td>0.000008</td>\n",
       "      <td>-0.11</td>\n",
       "      <td>-0.017516</td>\n",
       "    </tr>\n",
       "    <tr>\n",
       "      <th>2000-04-16</th>\n",
       "      <td>NaN</td>\n",
       "      <td>NaN</td>\n",
       "      <td>NaN</td>\n",
       "      <td>NaN</td>\n",
       "      <td>NaN</td>\n",
       "      <td>NaN</td>\n",
       "      <td>NaN</td>\n",
       "      <td>NaN</td>\n",
       "      <td>NaN</td>\n",
       "      <td>NaN</td>\n",
       "      <td>...</td>\n",
       "      <td>-9000.0</td>\n",
       "      <td>-0.033582</td>\n",
       "      <td>-3.2</td>\n",
       "      <td>-2.666667</td>\n",
       "      <td>-4981.0</td>\n",
       "      <td>-0.020369</td>\n",
       "      <td>5.0</td>\n",
       "      <td>0.000008</td>\n",
       "      <td>-0.09</td>\n",
       "      <td>-0.014587</td>\n",
       "    </tr>\n",
       "    <tr>\n",
       "      <th>2000-04-23</th>\n",
       "      <td>NaN</td>\n",
       "      <td>NaN</td>\n",
       "      <td>NaN</td>\n",
       "      <td>NaN</td>\n",
       "      <td>NaN</td>\n",
       "      <td>NaN</td>\n",
       "      <td>NaN</td>\n",
       "      <td>NaN</td>\n",
       "      <td>NaN</td>\n",
       "      <td>NaN</td>\n",
       "      <td>...</td>\n",
       "      <td>15000.0</td>\n",
       "      <td>0.057915</td>\n",
       "      <td>-3.2</td>\n",
       "      <td>-2.666667</td>\n",
       "      <td>-4981.0</td>\n",
       "      <td>-0.020369</td>\n",
       "      <td>5.0</td>\n",
       "      <td>0.000008</td>\n",
       "      <td>0.04</td>\n",
       "      <td>0.006579</td>\n",
       "    </tr>\n",
       "    <tr>\n",
       "      <th>2000-04-30</th>\n",
       "      <td>NaN</td>\n",
       "      <td>NaN</td>\n",
       "      <td>NaN</td>\n",
       "      <td>NaN</td>\n",
       "      <td>NaN</td>\n",
       "      <td>NaN</td>\n",
       "      <td>NaN</td>\n",
       "      <td>NaN</td>\n",
       "      <td>NaN</td>\n",
       "      <td>NaN</td>\n",
       "      <td>...</td>\n",
       "      <td>17000.0</td>\n",
       "      <td>0.062044</td>\n",
       "      <td>-3.2</td>\n",
       "      <td>-2.666667</td>\n",
       "      <td>-4981.0</td>\n",
       "      <td>-0.020369</td>\n",
       "      <td>5.0</td>\n",
       "      <td>0.000008</td>\n",
       "      <td>0.12</td>\n",
       "      <td>0.019608</td>\n",
       "    </tr>\n",
       "    <tr>\n",
       "      <th>2000-05-07</th>\n",
       "      <td>NaN</td>\n",
       "      <td>NaN</td>\n",
       "      <td>NaN</td>\n",
       "      <td>NaN</td>\n",
       "      <td>NaN</td>\n",
       "      <td>NaN</td>\n",
       "      <td>NaN</td>\n",
       "      <td>NaN</td>\n",
       "      <td>NaN</td>\n",
       "      <td>NaN</td>\n",
       "      <td>...</td>\n",
       "      <td>2000.0</td>\n",
       "      <td>0.006873</td>\n",
       "      <td>2.8</td>\n",
       "      <td>-1.400000</td>\n",
       "      <td>1994.0</td>\n",
       "      <td>0.008324</td>\n",
       "      <td>5.0</td>\n",
       "      <td>0.000008</td>\n",
       "      <td>0.05</td>\n",
       "      <td>0.008013</td>\n",
       "    </tr>\n",
       "    <tr>\n",
       "      <th>2000-05-14</th>\n",
       "      <td>NaN</td>\n",
       "      <td>NaN</td>\n",
       "      <td>NaN</td>\n",
       "      <td>NaN</td>\n",
       "      <td>NaN</td>\n",
       "      <td>NaN</td>\n",
       "      <td>NaN</td>\n",
       "      <td>NaN</td>\n",
       "      <td>NaN</td>\n",
       "      <td>NaN</td>\n",
       "      <td>...</td>\n",
       "      <td>-17000.0</td>\n",
       "      <td>-0.058020</td>\n",
       "      <td>2.8</td>\n",
       "      <td>-1.400000</td>\n",
       "      <td>1994.0</td>\n",
       "      <td>0.008324</td>\n",
       "      <td>5.0</td>\n",
       "      <td>0.000008</td>\n",
       "      <td>0.15</td>\n",
       "      <td>0.023847</td>\n",
       "    </tr>\n",
       "    <tr>\n",
       "      <th>2000-05-21</th>\n",
       "      <td>NaN</td>\n",
       "      <td>NaN</td>\n",
       "      <td>NaN</td>\n",
       "      <td>NaN</td>\n",
       "      <td>NaN</td>\n",
       "      <td>NaN</td>\n",
       "      <td>NaN</td>\n",
       "      <td>NaN</td>\n",
       "      <td>NaN</td>\n",
       "      <td>NaN</td>\n",
       "      <td>...</td>\n",
       "      <td>4000.0</td>\n",
       "      <td>0.014493</td>\n",
       "      <td>2.8</td>\n",
       "      <td>-1.400000</td>\n",
       "      <td>1994.0</td>\n",
       "      <td>0.008324</td>\n",
       "      <td>5.0</td>\n",
       "      <td>0.000008</td>\n",
       "      <td>-0.12</td>\n",
       "      <td>-0.018634</td>\n",
       "    </tr>\n",
       "    <tr>\n",
       "      <th>2000-05-28</th>\n",
       "      <td>NaN</td>\n",
       "      <td>NaN</td>\n",
       "      <td>NaN</td>\n",
       "      <td>NaN</td>\n",
       "      <td>NaN</td>\n",
       "      <td>NaN</td>\n",
       "      <td>NaN</td>\n",
       "      <td>NaN</td>\n",
       "      <td>NaN</td>\n",
       "      <td>NaN</td>\n",
       "      <td>...</td>\n",
       "      <td>4000.0</td>\n",
       "      <td>0.014493</td>\n",
       "      <td>2.8</td>\n",
       "      <td>-1.400000</td>\n",
       "      <td>1994.0</td>\n",
       "      <td>0.008324</td>\n",
       "      <td>5.0</td>\n",
       "      <td>0.000008</td>\n",
       "      <td>-0.05</td>\n",
       "      <td>-0.007911</td>\n",
       "    </tr>\n",
       "    <tr>\n",
       "      <th>2000-06-04</th>\n",
       "      <td>NaN</td>\n",
       "      <td>NaN</td>\n",
       "      <td>NaN</td>\n",
       "      <td>NaN</td>\n",
       "      <td>NaN</td>\n",
       "      <td>NaN</td>\n",
       "      <td>NaN</td>\n",
       "      <td>NaN</td>\n",
       "      <td>NaN</td>\n",
       "      <td>NaN</td>\n",
       "      <td>...</td>\n",
       "      <td>10000.0</td>\n",
       "      <td>0.035714</td>\n",
       "      <td>-0.1</td>\n",
       "      <td>-0.125000</td>\n",
       "      <td>1680.0</td>\n",
       "      <td>0.006955</td>\n",
       "      <td>5.0</td>\n",
       "      <td>0.000008</td>\n",
       "      <td>-0.04</td>\n",
       "      <td>-0.006380</td>\n",
       "    </tr>\n",
       "    <tr>\n",
       "      <th>2000-06-11</th>\n",
       "      <td>NaN</td>\n",
       "      <td>NaN</td>\n",
       "      <td>NaN</td>\n",
       "      <td>NaN</td>\n",
       "      <td>NaN</td>\n",
       "      <td>NaN</td>\n",
       "      <td>NaN</td>\n",
       "      <td>NaN</td>\n",
       "      <td>NaN</td>\n",
       "      <td>NaN</td>\n",
       "      <td>...</td>\n",
       "      <td>-6000.0</td>\n",
       "      <td>-0.020690</td>\n",
       "      <td>-0.1</td>\n",
       "      <td>-0.125000</td>\n",
       "      <td>1680.0</td>\n",
       "      <td>0.006955</td>\n",
       "      <td>5.0</td>\n",
       "      <td>0.000008</td>\n",
       "      <td>-0.04</td>\n",
       "      <td>-0.006380</td>\n",
       "    </tr>\n",
       "    <tr>\n",
       "      <th>2000-06-18</th>\n",
       "      <td>NaN</td>\n",
       "      <td>NaN</td>\n",
       "      <td>NaN</td>\n",
       "      <td>NaN</td>\n",
       "      <td>NaN</td>\n",
       "      <td>NaN</td>\n",
       "      <td>NaN</td>\n",
       "      <td>NaN</td>\n",
       "      <td>NaN</td>\n",
       "      <td>NaN</td>\n",
       "      <td>...</td>\n",
       "      <td>10000.0</td>\n",
       "      <td>0.035211</td>\n",
       "      <td>-0.1</td>\n",
       "      <td>-0.125000</td>\n",
       "      <td>1680.0</td>\n",
       "      <td>0.006955</td>\n",
       "      <td>5.0</td>\n",
       "      <td>0.000008</td>\n",
       "      <td>-0.14</td>\n",
       "      <td>-0.022472</td>\n",
       "    </tr>\n",
       "    <tr>\n",
       "      <th>2000-06-25</th>\n",
       "      <td>NaN</td>\n",
       "      <td>NaN</td>\n",
       "      <td>NaN</td>\n",
       "      <td>NaN</td>\n",
       "      <td>NaN</td>\n",
       "      <td>NaN</td>\n",
       "      <td>NaN</td>\n",
       "      <td>NaN</td>\n",
       "      <td>NaN</td>\n",
       "      <td>NaN</td>\n",
       "      <td>...</td>\n",
       "      <td>2000.0</td>\n",
       "      <td>0.006803</td>\n",
       "      <td>-0.1</td>\n",
       "      <td>-0.125000</td>\n",
       "      <td>1680.0</td>\n",
       "      <td>0.006955</td>\n",
       "      <td>5.0</td>\n",
       "      <td>0.000008</td>\n",
       "      <td>0.10</td>\n",
       "      <td>0.016420</td>\n",
       "    </tr>\n",
       "    <tr>\n",
       "      <th>2000-07-02</th>\n",
       "      <td>NaN</td>\n",
       "      <td>NaN</td>\n",
       "      <td>NaN</td>\n",
       "      <td>NaN</td>\n",
       "      <td>NaN</td>\n",
       "      <td>NaN</td>\n",
       "      <td>NaN</td>\n",
       "      <td>NaN</td>\n",
       "      <td>NaN</td>\n",
       "      <td>NaN</td>\n",
       "      <td>...</td>\n",
       "      <td>-15000.0</td>\n",
       "      <td>-0.050676</td>\n",
       "      <td>-1.6</td>\n",
       "      <td>-2.285714</td>\n",
       "      <td>-2247.0</td>\n",
       "      <td>-0.009238</td>\n",
       "      <td>5.0</td>\n",
       "      <td>0.000008</td>\n",
       "      <td>-0.11</td>\n",
       "      <td>-0.017771</td>\n",
       "    </tr>\n",
       "    <tr>\n",
       "      <th>2000-07-09</th>\n",
       "      <td>NaN</td>\n",
       "      <td>NaN</td>\n",
       "      <td>NaN</td>\n",
       "      <td>NaN</td>\n",
       "      <td>NaN</td>\n",
       "      <td>NaN</td>\n",
       "      <td>NaN</td>\n",
       "      <td>NaN</td>\n",
       "      <td>NaN</td>\n",
       "      <td>NaN</td>\n",
       "      <td>...</td>\n",
       "      <td>12000.0</td>\n",
       "      <td>0.042705</td>\n",
       "      <td>-1.6</td>\n",
       "      <td>-2.285714</td>\n",
       "      <td>-2247.0</td>\n",
       "      <td>-0.009238</td>\n",
       "      <td>5.0</td>\n",
       "      <td>0.000008</td>\n",
       "      <td>-0.01</td>\n",
       "      <td>-0.001645</td>\n",
       "    </tr>\n",
       "    <tr>\n",
       "      <th>2000-07-16</th>\n",
       "      <td>NaN</td>\n",
       "      <td>NaN</td>\n",
       "      <td>NaN</td>\n",
       "      <td>NaN</td>\n",
       "      <td>NaN</td>\n",
       "      <td>NaN</td>\n",
       "      <td>NaN</td>\n",
       "      <td>NaN</td>\n",
       "      <td>NaN</td>\n",
       "      <td>NaN</td>\n",
       "      <td>...</td>\n",
       "      <td>10000.0</td>\n",
       "      <td>0.034130</td>\n",
       "      <td>-1.6</td>\n",
       "      <td>-2.285714</td>\n",
       "      <td>-2247.0</td>\n",
       "      <td>-0.009238</td>\n",
       "      <td>5.0</td>\n",
       "      <td>0.000008</td>\n",
       "      <td>0.05</td>\n",
       "      <td>0.008237</td>\n",
       "    </tr>\n",
       "    <tr>\n",
       "      <th>2000-07-23</th>\n",
       "      <td>NaN</td>\n",
       "      <td>NaN</td>\n",
       "      <td>NaN</td>\n",
       "      <td>NaN</td>\n",
       "      <td>NaN</td>\n",
       "      <td>NaN</td>\n",
       "      <td>NaN</td>\n",
       "      <td>NaN</td>\n",
       "      <td>NaN</td>\n",
       "      <td>NaN</td>\n",
       "      <td>...</td>\n",
       "      <td>-3000.0</td>\n",
       "      <td>-0.009901</td>\n",
       "      <td>-1.6</td>\n",
       "      <td>-2.285714</td>\n",
       "      <td>-2247.0</td>\n",
       "      <td>-0.009238</td>\n",
       "      <td>5.0</td>\n",
       "      <td>0.000008</td>\n",
       "      <td>-0.05</td>\n",
       "      <td>-0.008170</td>\n",
       "    </tr>\n",
       "    <tr>\n",
       "      <th>2000-07-30</th>\n",
       "      <td>NaN</td>\n",
       "      <td>NaN</td>\n",
       "      <td>NaN</td>\n",
       "      <td>NaN</td>\n",
       "      <td>NaN</td>\n",
       "      <td>NaN</td>\n",
       "      <td>NaN</td>\n",
       "      <td>NaN</td>\n",
       "      <td>NaN</td>\n",
       "      <td>NaN</td>\n",
       "      <td>...</td>\n",
       "      <td>-2000.0</td>\n",
       "      <td>-0.006667</td>\n",
       "      <td>-1.6</td>\n",
       "      <td>-2.285714</td>\n",
       "      <td>-2247.0</td>\n",
       "      <td>-0.009238</td>\n",
       "      <td>5.0</td>\n",
       "      <td>0.000008</td>\n",
       "      <td>-0.02</td>\n",
       "      <td>-0.003295</td>\n",
       "    </tr>\n",
       "    <tr>\n",
       "      <th>2000-08-06</th>\n",
       "      <td>NaN</td>\n",
       "      <td>NaN</td>\n",
       "      <td>NaN</td>\n",
       "      <td>NaN</td>\n",
       "      <td>NaN</td>\n",
       "      <td>NaN</td>\n",
       "      <td>NaN</td>\n",
       "      <td>NaN</td>\n",
       "      <td>NaN</td>\n",
       "      <td>NaN</td>\n",
       "      <td>...</td>\n",
       "      <td>8000.0</td>\n",
       "      <td>0.026846</td>\n",
       "      <td>1.5</td>\n",
       "      <td>-1.666667</td>\n",
       "      <td>1339.0</td>\n",
       "      <td>0.005557</td>\n",
       "      <td>5.0</td>\n",
       "      <td>0.000008</td>\n",
       "      <td>0.03</td>\n",
       "      <td>0.004959</td>\n",
       "    </tr>\n",
       "    <tr>\n",
       "      <th>2000-08-13</th>\n",
       "      <td>NaN</td>\n",
       "      <td>NaN</td>\n",
       "      <td>NaN</td>\n",
       "      <td>NaN</td>\n",
       "      <td>NaN</td>\n",
       "      <td>NaN</td>\n",
       "      <td>NaN</td>\n",
       "      <td>NaN</td>\n",
       "      <td>NaN</td>\n",
       "      <td>NaN</td>\n",
       "      <td>...</td>\n",
       "      <td>9000.0</td>\n",
       "      <td>0.029412</td>\n",
       "      <td>1.5</td>\n",
       "      <td>-1.666667</td>\n",
       "      <td>1339.0</td>\n",
       "      <td>0.005557</td>\n",
       "      <td>5.0</td>\n",
       "      <td>0.000008</td>\n",
       "      <td>0.16</td>\n",
       "      <td>0.026316</td>\n",
       "    </tr>\n",
       "    <tr>\n",
       "      <th>2000-08-20</th>\n",
       "      <td>NaN</td>\n",
       "      <td>NaN</td>\n",
       "      <td>NaN</td>\n",
       "      <td>NaN</td>\n",
       "      <td>NaN</td>\n",
       "      <td>NaN</td>\n",
       "      <td>NaN</td>\n",
       "      <td>NaN</td>\n",
       "      <td>NaN</td>\n",
       "      <td>NaN</td>\n",
       "      <td>...</td>\n",
       "      <td>3000.0</td>\n",
       "      <td>0.009524</td>\n",
       "      <td>1.5</td>\n",
       "      <td>-1.666667</td>\n",
       "      <td>1339.0</td>\n",
       "      <td>0.005557</td>\n",
       "      <td>5.0</td>\n",
       "      <td>0.000008</td>\n",
       "      <td>-0.05</td>\n",
       "      <td>-0.008013</td>\n",
       "    </tr>\n",
       "    <tr>\n",
       "      <th>2000-08-27</th>\n",
       "      <td>NaN</td>\n",
       "      <td>NaN</td>\n",
       "      <td>NaN</td>\n",
       "      <td>NaN</td>\n",
       "      <td>NaN</td>\n",
       "      <td>NaN</td>\n",
       "      <td>NaN</td>\n",
       "      <td>NaN</td>\n",
       "      <td>NaN</td>\n",
       "      <td>NaN</td>\n",
       "      <td>...</td>\n",
       "      <td>-6000.0</td>\n",
       "      <td>-0.018868</td>\n",
       "      <td>1.5</td>\n",
       "      <td>-1.666667</td>\n",
       "      <td>1339.0</td>\n",
       "      <td>0.005557</td>\n",
       "      <td>5.0</td>\n",
       "      <td>0.000008</td>\n",
       "      <td>0.01</td>\n",
       "      <td>0.001616</td>\n",
       "    </tr>\n",
       "    <tr>\n",
       "      <th>2000-09-03</th>\n",
       "      <td>NaN</td>\n",
       "      <td>NaN</td>\n",
       "      <td>NaN</td>\n",
       "      <td>NaN</td>\n",
       "      <td>NaN</td>\n",
       "      <td>NaN</td>\n",
       "      <td>NaN</td>\n",
       "      <td>NaN</td>\n",
       "      <td>NaN</td>\n",
       "      <td>NaN</td>\n",
       "      <td>...</td>\n",
       "      <td>-11000.0</td>\n",
       "      <td>-0.035256</td>\n",
       "      <td>0.7</td>\n",
       "      <td>1.166667</td>\n",
       "      <td>3202.0</td>\n",
       "      <td>0.013214</td>\n",
       "      <td>5.0</td>\n",
       "      <td>0.000008</td>\n",
       "      <td>-0.02</td>\n",
       "      <td>-0.003226</td>\n",
       "    </tr>\n",
       "    <tr>\n",
       "      <th>2000-09-10</th>\n",
       "      <td>NaN</td>\n",
       "      <td>NaN</td>\n",
       "      <td>NaN</td>\n",
       "      <td>NaN</td>\n",
       "      <td>NaN</td>\n",
       "      <td>NaN</td>\n",
       "      <td>NaN</td>\n",
       "      <td>NaN</td>\n",
       "      <td>NaN</td>\n",
       "      <td>NaN</td>\n",
       "      <td>...</td>\n",
       "      <td>8000.0</td>\n",
       "      <td>0.026578</td>\n",
       "      <td>0.7</td>\n",
       "      <td>1.166667</td>\n",
       "      <td>3202.0</td>\n",
       "      <td>0.013214</td>\n",
       "      <td>5.0</td>\n",
       "      <td>0.000008</td>\n",
       "      <td>0.01</td>\n",
       "      <td>0.001618</td>\n",
       "    </tr>\n",
       "    <tr>\n",
       "      <th>2000-09-17</th>\n",
       "      <td>NaN</td>\n",
       "      <td>NaN</td>\n",
       "      <td>NaN</td>\n",
       "      <td>NaN</td>\n",
       "      <td>NaN</td>\n",
       "      <td>NaN</td>\n",
       "      <td>NaN</td>\n",
       "      <td>NaN</td>\n",
       "      <td>NaN</td>\n",
       "      <td>NaN</td>\n",
       "      <td>...</td>\n",
       "      <td>2000.0</td>\n",
       "      <td>0.006472</td>\n",
       "      <td>0.7</td>\n",
       "      <td>1.166667</td>\n",
       "      <td>3202.0</td>\n",
       "      <td>0.013214</td>\n",
       "      <td>5.0</td>\n",
       "      <td>0.000008</td>\n",
       "      <td>-0.09</td>\n",
       "      <td>-0.014540</td>\n",
       "    </tr>\n",
       "    <tr>\n",
       "      <th>2000-09-24</th>\n",
       "      <td>NaN</td>\n",
       "      <td>NaN</td>\n",
       "      <td>NaN</td>\n",
       "      <td>NaN</td>\n",
       "      <td>NaN</td>\n",
       "      <td>NaN</td>\n",
       "      <td>NaN</td>\n",
       "      <td>NaN</td>\n",
       "      <td>NaN</td>\n",
       "      <td>NaN</td>\n",
       "      <td>...</td>\n",
       "      <td>-23000.0</td>\n",
       "      <td>-0.073955</td>\n",
       "      <td>0.7</td>\n",
       "      <td>1.166667</td>\n",
       "      <td>3202.0</td>\n",
       "      <td>0.013214</td>\n",
       "      <td>5.0</td>\n",
       "      <td>0.000008</td>\n",
       "      <td>-0.02</td>\n",
       "      <td>-0.003279</td>\n",
       "    </tr>\n",
       "    <tr>\n",
       "      <th>2000-10-01</th>\n",
       "      <td>NaN</td>\n",
       "      <td>NaN</td>\n",
       "      <td>NaN</td>\n",
       "      <td>NaN</td>\n",
       "      <td>NaN</td>\n",
       "      <td>NaN</td>\n",
       "      <td>NaN</td>\n",
       "      <td>NaN</td>\n",
       "      <td>NaN</td>\n",
       "      <td>NaN</td>\n",
       "      <td>...</td>\n",
       "      <td>4000.0</td>\n",
       "      <td>0.013889</td>\n",
       "      <td>-1.3</td>\n",
       "      <td>-1.000000</td>\n",
       "      <td>-121.0</td>\n",
       "      <td>-0.000493</td>\n",
       "      <td>5.0</td>\n",
       "      <td>0.000008</td>\n",
       "      <td>-0.01</td>\n",
       "      <td>-0.001645</td>\n",
       "    </tr>\n",
       "    <tr>\n",
       "      <th>2000-10-08</th>\n",
       "      <td>NaN</td>\n",
       "      <td>NaN</td>\n",
       "      <td>NaN</td>\n",
       "      <td>NaN</td>\n",
       "      <td>NaN</td>\n",
       "      <td>NaN</td>\n",
       "      <td>NaN</td>\n",
       "      <td>NaN</td>\n",
       "      <td>NaN</td>\n",
       "      <td>NaN</td>\n",
       "      <td>...</td>\n",
       "      <td>17000.0</td>\n",
       "      <td>0.058219</td>\n",
       "      <td>-1.3</td>\n",
       "      <td>-1.000000</td>\n",
       "      <td>-121.0</td>\n",
       "      <td>-0.000493</td>\n",
       "      <td>5.0</td>\n",
       "      <td>0.000008</td>\n",
       "      <td>-0.01</td>\n",
       "      <td>-0.001647</td>\n",
       "    </tr>\n",
       "    <tr>\n",
       "      <th>2000-10-15</th>\n",
       "      <td>NaN</td>\n",
       "      <td>NaN</td>\n",
       "      <td>NaN</td>\n",
       "      <td>NaN</td>\n",
       "      <td>NaN</td>\n",
       "      <td>NaN</td>\n",
       "      <td>NaN</td>\n",
       "      <td>NaN</td>\n",
       "      <td>NaN</td>\n",
       "      <td>NaN</td>\n",
       "      <td>...</td>\n",
       "      <td>-10000.0</td>\n",
       "      <td>-0.032362</td>\n",
       "      <td>-1.3</td>\n",
       "      <td>-1.000000</td>\n",
       "      <td>-121.0</td>\n",
       "      <td>-0.000493</td>\n",
       "      <td>5.0</td>\n",
       "      <td>0.000008</td>\n",
       "      <td>-0.13</td>\n",
       "      <td>-0.021452</td>\n",
       "    </tr>\n",
       "    <tr>\n",
       "      <th>2000-10-22</th>\n",
       "      <td>NaN</td>\n",
       "      <td>NaN</td>\n",
       "      <td>NaN</td>\n",
       "      <td>NaN</td>\n",
       "      <td>NaN</td>\n",
       "      <td>NaN</td>\n",
       "      <td>NaN</td>\n",
       "      <td>NaN</td>\n",
       "      <td>NaN</td>\n",
       "      <td>NaN</td>\n",
       "      <td>...</td>\n",
       "      <td>-4000.0</td>\n",
       "      <td>-0.013378</td>\n",
       "      <td>-1.3</td>\n",
       "      <td>-1.000000</td>\n",
       "      <td>-121.0</td>\n",
       "      <td>-0.000493</td>\n",
       "      <td>5.0</td>\n",
       "      <td>0.000008</td>\n",
       "      <td>0.01</td>\n",
       "      <td>0.001686</td>\n",
       "    </tr>\n",
       "    <tr>\n",
       "      <th>2000-10-29</th>\n",
       "      <td>NaN</td>\n",
       "      <td>NaN</td>\n",
       "      <td>NaN</td>\n",
       "      <td>NaN</td>\n",
       "      <td>NaN</td>\n",
       "      <td>NaN</td>\n",
       "      <td>NaN</td>\n",
       "      <td>NaN</td>\n",
       "      <td>NaN</td>\n",
       "      <td>NaN</td>\n",
       "      <td>...</td>\n",
       "      <td>6000.0</td>\n",
       "      <td>0.020339</td>\n",
       "      <td>-1.3</td>\n",
       "      <td>-1.000000</td>\n",
       "      <td>-121.0</td>\n",
       "      <td>-0.000493</td>\n",
       "      <td>5.0</td>\n",
       "      <td>0.000008</td>\n",
       "      <td>0.17</td>\n",
       "      <td>0.028620</td>\n",
       "    </tr>\n",
       "    <tr>\n",
       "      <th>2000-11-05</th>\n",
       "      <td>NaN</td>\n",
       "      <td>NaN</td>\n",
       "      <td>NaN</td>\n",
       "      <td>NaN</td>\n",
       "      <td>NaN</td>\n",
       "      <td>NaN</td>\n",
       "      <td>NaN</td>\n",
       "      <td>NaN</td>\n",
       "      <td>NaN</td>\n",
       "      <td>NaN</td>\n",
       "      <td>...</td>\n",
       "      <td>30000.0</td>\n",
       "      <td>0.099668</td>\n",
       "      <td>-0.6</td>\n",
       "      <td>-inf</td>\n",
       "      <td>-1553.0</td>\n",
       "      <td>-0.006328</td>\n",
       "      <td>5.0</td>\n",
       "      <td>0.000008</td>\n",
       "      <td>0.02</td>\n",
       "      <td>0.003273</td>\n",
       "    </tr>\n",
       "    <tr>\n",
       "      <th>2000-11-12</th>\n",
       "      <td>NaN</td>\n",
       "      <td>NaN</td>\n",
       "      <td>NaN</td>\n",
       "      <td>NaN</td>\n",
       "      <td>NaN</td>\n",
       "      <td>NaN</td>\n",
       "      <td>NaN</td>\n",
       "      <td>NaN</td>\n",
       "      <td>NaN</td>\n",
       "      <td>NaN</td>\n",
       "      <td>...</td>\n",
       "      <td>-13000.0</td>\n",
       "      <td>-0.039275</td>\n",
       "      <td>-0.6</td>\n",
       "      <td>-inf</td>\n",
       "      <td>-1553.0</td>\n",
       "      <td>-0.006328</td>\n",
       "      <td>5.0</td>\n",
       "      <td>0.000008</td>\n",
       "      <td>-0.02</td>\n",
       "      <td>-0.003263</td>\n",
       "    </tr>\n",
       "    <tr>\n",
       "      <th>2000-11-19</th>\n",
       "      <td>NaN</td>\n",
       "      <td>NaN</td>\n",
       "      <td>NaN</td>\n",
       "      <td>NaN</td>\n",
       "      <td>NaN</td>\n",
       "      <td>NaN</td>\n",
       "      <td>NaN</td>\n",
       "      <td>NaN</td>\n",
       "      <td>NaN</td>\n",
       "      <td>NaN</td>\n",
       "      <td>...</td>\n",
       "      <td>14000.0</td>\n",
       "      <td>0.044025</td>\n",
       "      <td>-0.6</td>\n",
       "      <td>-inf</td>\n",
       "      <td>-1553.0</td>\n",
       "      <td>-0.006328</td>\n",
       "      <td>5.0</td>\n",
       "      <td>0.000008</td>\n",
       "      <td>-0.02</td>\n",
       "      <td>-0.003273</td>\n",
       "    </tr>\n",
       "    <tr>\n",
       "      <th>2000-11-26</th>\n",
       "      <td>NaN</td>\n",
       "      <td>NaN</td>\n",
       "      <td>NaN</td>\n",
       "      <td>NaN</td>\n",
       "      <td>NaN</td>\n",
       "      <td>NaN</td>\n",
       "      <td>NaN</td>\n",
       "      <td>NaN</td>\n",
       "      <td>NaN</td>\n",
       "      <td>NaN</td>\n",
       "      <td>...</td>\n",
       "      <td>24000.0</td>\n",
       "      <td>0.072289</td>\n",
       "      <td>-0.6</td>\n",
       "      <td>-inf</td>\n",
       "      <td>-1553.0</td>\n",
       "      <td>-0.006328</td>\n",
       "      <td>5.0</td>\n",
       "      <td>0.000008</td>\n",
       "      <td>0.03</td>\n",
       "      <td>0.004926</td>\n",
       "    </tr>\n",
       "    <tr>\n",
       "      <th>2000-12-03</th>\n",
       "      <td>NaN</td>\n",
       "      <td>NaN</td>\n",
       "      <td>NaN</td>\n",
       "      <td>NaN</td>\n",
       "      <td>NaN</td>\n",
       "      <td>NaN</td>\n",
       "      <td>NaN</td>\n",
       "      <td>NaN</td>\n",
       "      <td>NaN</td>\n",
       "      <td>NaN</td>\n",
       "      <td>...</td>\n",
       "      <td>-18000.0</td>\n",
       "      <td>-0.050562</td>\n",
       "      <td>0.6</td>\n",
       "      <td>-1.000000</td>\n",
       "      <td>-2.0</td>\n",
       "      <td>-0.000008</td>\n",
       "      <td>5.0</td>\n",
       "      <td>0.000008</td>\n",
       "      <td>-0.19</td>\n",
       "      <td>-0.031046</td>\n",
       "    </tr>\n",
       "  </tbody>\n",
       "</table>\n",
       "<p>50 rows × 89 columns</p>\n",
       "</div>"
      ],
      "text/plain": [
       "                   return_1w  return_2w  return_3w  return_6w  return_12w  \\\n",
       "ticker date                                                                 \n",
       "XLB    1999-12-26        NaN        NaN        NaN        NaN         NaN   \n",
       "       2000-01-02        NaN        NaN        NaN        NaN         NaN   \n",
       "       2000-01-09        NaN        NaN        NaN        NaN         NaN   \n",
       "       2000-01-16        NaN        NaN        NaN        NaN         NaN   \n",
       "       2000-01-23        NaN        NaN        NaN        NaN         NaN   \n",
       "       2000-01-30        NaN        NaN        NaN        NaN         NaN   \n",
       "       2000-02-06        NaN        NaN        NaN        NaN         NaN   \n",
       "       2000-02-13        NaN        NaN        NaN        NaN         NaN   \n",
       "       2000-02-20        NaN        NaN        NaN        NaN         NaN   \n",
       "       2000-02-27        NaN        NaN        NaN        NaN         NaN   \n",
       "       2000-03-05        NaN        NaN        NaN        NaN         NaN   \n",
       "       2000-03-12        NaN        NaN        NaN        NaN         NaN   \n",
       "       2000-03-19        NaN        NaN        NaN        NaN         NaN   \n",
       "       2000-03-26        NaN        NaN        NaN        NaN         NaN   \n",
       "       2000-04-02        NaN        NaN        NaN        NaN         NaN   \n",
       "       2000-04-09        NaN        NaN        NaN        NaN         NaN   \n",
       "       2000-04-16        NaN        NaN        NaN        NaN         NaN   \n",
       "       2000-04-23        NaN        NaN        NaN        NaN         NaN   \n",
       "       2000-04-30        NaN        NaN        NaN        NaN         NaN   \n",
       "       2000-05-07        NaN        NaN        NaN        NaN         NaN   \n",
       "       2000-05-14        NaN        NaN        NaN        NaN         NaN   \n",
       "       2000-05-21        NaN        NaN        NaN        NaN         NaN   \n",
       "       2000-05-28        NaN        NaN        NaN        NaN         NaN   \n",
       "       2000-06-04        NaN        NaN        NaN        NaN         NaN   \n",
       "       2000-06-11        NaN        NaN        NaN        NaN         NaN   \n",
       "       2000-06-18        NaN        NaN        NaN        NaN         NaN   \n",
       "       2000-06-25        NaN        NaN        NaN        NaN         NaN   \n",
       "       2000-07-02        NaN        NaN        NaN        NaN         NaN   \n",
       "       2000-07-09        NaN        NaN        NaN        NaN         NaN   \n",
       "       2000-07-16        NaN        NaN        NaN        NaN         NaN   \n",
       "       2000-07-23        NaN        NaN        NaN        NaN         NaN   \n",
       "       2000-07-30        NaN        NaN        NaN        NaN         NaN   \n",
       "       2000-08-06        NaN        NaN        NaN        NaN         NaN   \n",
       "       2000-08-13        NaN        NaN        NaN        NaN         NaN   \n",
       "       2000-08-20        NaN        NaN        NaN        NaN         NaN   \n",
       "       2000-08-27        NaN        NaN        NaN        NaN         NaN   \n",
       "       2000-09-03        NaN        NaN        NaN        NaN         NaN   \n",
       "       2000-09-10        NaN        NaN        NaN        NaN         NaN   \n",
       "       2000-09-17        NaN        NaN        NaN        NaN         NaN   \n",
       "       2000-09-24        NaN        NaN        NaN        NaN         NaN   \n",
       "       2000-10-01        NaN        NaN        NaN        NaN         NaN   \n",
       "       2000-10-08        NaN        NaN        NaN        NaN         NaN   \n",
       "       2000-10-15        NaN        NaN        NaN        NaN         NaN   \n",
       "       2000-10-22        NaN        NaN        NaN        NaN         NaN   \n",
       "       2000-10-29        NaN        NaN        NaN        NaN         NaN   \n",
       "       2000-11-05        NaN        NaN        NaN        NaN         NaN   \n",
       "       2000-11-12        NaN        NaN        NaN        NaN         NaN   \n",
       "       2000-11-19        NaN        NaN        NaN        NaN         NaN   \n",
       "       2000-11-26        NaN        NaN        NaN        NaN         NaN   \n",
       "       2000-12-03        NaN        NaN        NaN        NaN         NaN   \n",
       "\n",
       "                   return_52w  const  Mkt-RF  SMB  HML  ...  \\\n",
       "ticker date                                             ...   \n",
       "XLB    1999-12-26         NaN    NaN     NaN  NaN  NaN  ...   \n",
       "       2000-01-02         NaN    NaN     NaN  NaN  NaN  ...   \n",
       "       2000-01-09         NaN    NaN     NaN  NaN  NaN  ...   \n",
       "       2000-01-16         NaN    NaN     NaN  NaN  NaN  ...   \n",
       "       2000-01-23         NaN    NaN     NaN  NaN  NaN  ...   \n",
       "       2000-01-30         NaN    NaN     NaN  NaN  NaN  ...   \n",
       "       2000-02-06         NaN    NaN     NaN  NaN  NaN  ...   \n",
       "       2000-02-13         NaN    NaN     NaN  NaN  NaN  ...   \n",
       "       2000-02-20         NaN    NaN     NaN  NaN  NaN  ...   \n",
       "       2000-02-27         NaN    NaN     NaN  NaN  NaN  ...   \n",
       "       2000-03-05         NaN    NaN     NaN  NaN  NaN  ...   \n",
       "       2000-03-12         NaN    NaN     NaN  NaN  NaN  ...   \n",
       "       2000-03-19         NaN    NaN     NaN  NaN  NaN  ...   \n",
       "       2000-03-26         NaN    NaN     NaN  NaN  NaN  ...   \n",
       "       2000-04-02         NaN    NaN     NaN  NaN  NaN  ...   \n",
       "       2000-04-09         NaN    NaN     NaN  NaN  NaN  ...   \n",
       "       2000-04-16         NaN    NaN     NaN  NaN  NaN  ...   \n",
       "       2000-04-23         NaN    NaN     NaN  NaN  NaN  ...   \n",
       "       2000-04-30         NaN    NaN     NaN  NaN  NaN  ...   \n",
       "       2000-05-07         NaN    NaN     NaN  NaN  NaN  ...   \n",
       "       2000-05-14         NaN    NaN     NaN  NaN  NaN  ...   \n",
       "       2000-05-21         NaN    NaN     NaN  NaN  NaN  ...   \n",
       "       2000-05-28         NaN    NaN     NaN  NaN  NaN  ...   \n",
       "       2000-06-04         NaN    NaN     NaN  NaN  NaN  ...   \n",
       "       2000-06-11         NaN    NaN     NaN  NaN  NaN  ...   \n",
       "       2000-06-18         NaN    NaN     NaN  NaN  NaN  ...   \n",
       "       2000-06-25         NaN    NaN     NaN  NaN  NaN  ...   \n",
       "       2000-07-02         NaN    NaN     NaN  NaN  NaN  ...   \n",
       "       2000-07-09         NaN    NaN     NaN  NaN  NaN  ...   \n",
       "       2000-07-16         NaN    NaN     NaN  NaN  NaN  ...   \n",
       "       2000-07-23         NaN    NaN     NaN  NaN  NaN  ...   \n",
       "       2000-07-30         NaN    NaN     NaN  NaN  NaN  ...   \n",
       "       2000-08-06         NaN    NaN     NaN  NaN  NaN  ...   \n",
       "       2000-08-13         NaN    NaN     NaN  NaN  NaN  ...   \n",
       "       2000-08-20         NaN    NaN     NaN  NaN  NaN  ...   \n",
       "       2000-08-27         NaN    NaN     NaN  NaN  NaN  ...   \n",
       "       2000-09-03         NaN    NaN     NaN  NaN  NaN  ...   \n",
       "       2000-09-10         NaN    NaN     NaN  NaN  NaN  ...   \n",
       "       2000-09-17         NaN    NaN     NaN  NaN  NaN  ...   \n",
       "       2000-09-24         NaN    NaN     NaN  NaN  NaN  ...   \n",
       "       2000-10-01         NaN    NaN     NaN  NaN  NaN  ...   \n",
       "       2000-10-08         NaN    NaN     NaN  NaN  NaN  ...   \n",
       "       2000-10-15         NaN    NaN     NaN  NaN  NaN  ...   \n",
       "       2000-10-22         NaN    NaN     NaN  NaN  NaN  ...   \n",
       "       2000-10-29         NaN    NaN     NaN  NaN  NaN  ...   \n",
       "       2000-11-05         NaN    NaN     NaN  NaN  NaN  ...   \n",
       "       2000-11-12         NaN    NaN     NaN  NaN  NaN  ...   \n",
       "       2000-11-19         NaN    NaN     NaN  NaN  NaN  ...   \n",
       "       2000-11-26         NaN    NaN     NaN  NaN  NaN  ...   \n",
       "       2000-12-03         NaN    NaN     NaN  NaN  NaN  ...   \n",
       "\n",
       "                   weekjobclaims_diff  weekjobclaims_chg  \\\n",
       "ticker date                                                \n",
       "XLB    1999-12-26            -19000.0          -0.066202   \n",
       "       2000-01-02             18000.0           0.067164   \n",
       "       2000-01-09             12000.0           0.041958   \n",
       "       2000-01-16             -9000.0          -0.030201   \n",
       "       2000-01-23             -5000.0          -0.017301   \n",
       "       2000-01-30              1000.0           0.003521   \n",
       "       2000-02-06             27000.0           0.094737   \n",
       "       2000-02-13            -12000.0          -0.038462   \n",
       "       2000-02-20            -17000.0          -0.056667   \n",
       "       2000-02-27             -3000.0          -0.010601   \n",
       "       2000-03-05              6000.0           0.021429   \n",
       "       2000-03-12            -16000.0          -0.055944   \n",
       "       2000-03-19              1000.0           0.003704   \n",
       "       2000-03-26              1000.0           0.003690   \n",
       "       2000-04-02             -6000.0          -0.022059   \n",
       "       2000-04-09              2000.0           0.007519   \n",
       "       2000-04-16             -9000.0          -0.033582   \n",
       "       2000-04-23             15000.0           0.057915   \n",
       "       2000-04-30             17000.0           0.062044   \n",
       "       2000-05-07              2000.0           0.006873   \n",
       "       2000-05-14            -17000.0          -0.058020   \n",
       "       2000-05-21              4000.0           0.014493   \n",
       "       2000-05-28              4000.0           0.014493   \n",
       "       2000-06-04             10000.0           0.035714   \n",
       "       2000-06-11             -6000.0          -0.020690   \n",
       "       2000-06-18             10000.0           0.035211   \n",
       "       2000-06-25              2000.0           0.006803   \n",
       "       2000-07-02            -15000.0          -0.050676   \n",
       "       2000-07-09             12000.0           0.042705   \n",
       "       2000-07-16             10000.0           0.034130   \n",
       "       2000-07-23             -3000.0          -0.009901   \n",
       "       2000-07-30             -2000.0          -0.006667   \n",
       "       2000-08-06              8000.0           0.026846   \n",
       "       2000-08-13              9000.0           0.029412   \n",
       "       2000-08-20              3000.0           0.009524   \n",
       "       2000-08-27             -6000.0          -0.018868   \n",
       "       2000-09-03            -11000.0          -0.035256   \n",
       "       2000-09-10              8000.0           0.026578   \n",
       "       2000-09-17              2000.0           0.006472   \n",
       "       2000-09-24            -23000.0          -0.073955   \n",
       "       2000-10-01              4000.0           0.013889   \n",
       "       2000-10-08             17000.0           0.058219   \n",
       "       2000-10-15            -10000.0          -0.032362   \n",
       "       2000-10-22             -4000.0          -0.013378   \n",
       "       2000-10-29              6000.0           0.020339   \n",
       "       2000-11-05             30000.0           0.099668   \n",
       "       2000-11-12            -13000.0          -0.039275   \n",
       "       2000-11-19             14000.0           0.044025   \n",
       "       2000-11-26             24000.0           0.072289   \n",
       "       2000-12-03            -18000.0          -0.050562   \n",
       "\n",
       "                   retail_sales_percent_diff  retail_sales_percent_chg  \\\n",
       "ticker date                                                              \n",
       "XLB    1999-12-26                        0.8                  0.571429   \n",
       "       2000-01-02                       -3.1                 -1.409091   \n",
       "       2000-01-09                       -3.1                 -1.409091   \n",
       "       2000-01-16                       -3.1                 -1.409091   \n",
       "       2000-01-23                       -3.1                 -1.409091   \n",
       "       2000-01-30                       -3.1                 -1.409091   \n",
       "       2000-02-06                        2.6                 -2.888889   \n",
       "       2000-02-13                        2.6                 -2.888889   \n",
       "       2000-02-20                        2.6                 -2.888889   \n",
       "       2000-02-27                        2.6                 -2.888889   \n",
       "       2000-03-05                       -0.5                 -0.294118   \n",
       "       2000-03-12                       -0.5                 -0.294118   \n",
       "       2000-03-19                       -0.5                 -0.294118   \n",
       "       2000-03-26                       -0.5                 -0.294118   \n",
       "       2000-04-02                       -3.2                 -2.666667   \n",
       "       2000-04-09                       -3.2                 -2.666667   \n",
       "       2000-04-16                       -3.2                 -2.666667   \n",
       "       2000-04-23                       -3.2                 -2.666667   \n",
       "       2000-04-30                       -3.2                 -2.666667   \n",
       "       2000-05-07                        2.8                 -1.400000   \n",
       "       2000-05-14                        2.8                 -1.400000   \n",
       "       2000-05-21                        2.8                 -1.400000   \n",
       "       2000-05-28                        2.8                 -1.400000   \n",
       "       2000-06-04                       -0.1                 -0.125000   \n",
       "       2000-06-11                       -0.1                 -0.125000   \n",
       "       2000-06-18                       -0.1                 -0.125000   \n",
       "       2000-06-25                       -0.1                 -0.125000   \n",
       "       2000-07-02                       -1.6                 -2.285714   \n",
       "       2000-07-09                       -1.6                 -2.285714   \n",
       "       2000-07-16                       -1.6                 -2.285714   \n",
       "       2000-07-23                       -1.6                 -2.285714   \n",
       "       2000-07-30                       -1.6                 -2.285714   \n",
       "       2000-08-06                        1.5                 -1.666667   \n",
       "       2000-08-13                        1.5                 -1.666667   \n",
       "       2000-08-20                        1.5                 -1.666667   \n",
       "       2000-08-27                        1.5                 -1.666667   \n",
       "       2000-09-03                        0.7                  1.166667   \n",
       "       2000-09-10                        0.7                  1.166667   \n",
       "       2000-09-17                        0.7                  1.166667   \n",
       "       2000-09-24                        0.7                  1.166667   \n",
       "       2000-10-01                       -1.3                 -1.000000   \n",
       "       2000-10-08                       -1.3                 -1.000000   \n",
       "       2000-10-15                       -1.3                 -1.000000   \n",
       "       2000-10-22                       -1.3                 -1.000000   \n",
       "       2000-10-29                       -1.3                 -1.000000   \n",
       "       2000-11-05                       -0.6                      -inf   \n",
       "       2000-11-12                       -0.6                      -inf   \n",
       "       2000-11-19                       -0.6                      -inf   \n",
       "       2000-11-26                       -0.6                      -inf   \n",
       "       2000-12-03                        0.6                 -1.000000   \n",
       "\n",
       "                   retail_sales_diff  retail_sales_chg  us_asset_balance_diff  \\\n",
       "ticker date                                                                     \n",
       "XLB    1999-12-26             5164.0          0.022028                    5.0   \n",
       "       2000-01-02            -2048.0         -0.008548                    5.0   \n",
       "       2000-01-09            -2048.0         -0.008548                    5.0   \n",
       "       2000-01-16            -2048.0         -0.008548                    5.0   \n",
       "       2000-01-23            -2048.0         -0.008548                    5.0   \n",
       "       2000-01-30            -2048.0         -0.008548                    5.0   \n",
       "       2000-02-06             4000.0          0.016839                    5.0   \n",
       "       2000-02-13             4000.0          0.016839                    5.0   \n",
       "       2000-02-20             4000.0          0.016839                    5.0   \n",
       "       2000-02-27             4000.0          0.016839                    5.0   \n",
       "       2000-03-05             2992.0          0.012387                    5.0   \n",
       "       2000-03-12             2992.0          0.012387                    5.0   \n",
       "       2000-03-19             2992.0          0.012387                    5.0   \n",
       "       2000-03-26             2992.0          0.012387                    5.0   \n",
       "       2000-04-02            -4981.0         -0.020369                    5.0   \n",
       "       2000-04-09            -4981.0         -0.020369                    5.0   \n",
       "       2000-04-16            -4981.0         -0.020369                    5.0   \n",
       "       2000-04-23            -4981.0         -0.020369                    5.0   \n",
       "       2000-04-30            -4981.0         -0.020369                    5.0   \n",
       "       2000-05-07             1994.0          0.008324                    5.0   \n",
       "       2000-05-14             1994.0          0.008324                    5.0   \n",
       "       2000-05-21             1994.0          0.008324                    5.0   \n",
       "       2000-05-28             1994.0          0.008324                    5.0   \n",
       "       2000-06-04             1680.0          0.006955                    5.0   \n",
       "       2000-06-11             1680.0          0.006955                    5.0   \n",
       "       2000-06-18             1680.0          0.006955                    5.0   \n",
       "       2000-06-25             1680.0          0.006955                    5.0   \n",
       "       2000-07-02            -2247.0         -0.009238                    5.0   \n",
       "       2000-07-09            -2247.0         -0.009238                    5.0   \n",
       "       2000-07-16            -2247.0         -0.009238                    5.0   \n",
       "       2000-07-23            -2247.0         -0.009238                    5.0   \n",
       "       2000-07-30            -2247.0         -0.009238                    5.0   \n",
       "       2000-08-06             1339.0          0.005557                    5.0   \n",
       "       2000-08-13             1339.0          0.005557                    5.0   \n",
       "       2000-08-20             1339.0          0.005557                    5.0   \n",
       "       2000-08-27             1339.0          0.005557                    5.0   \n",
       "       2000-09-03             3202.0          0.013214                    5.0   \n",
       "       2000-09-10             3202.0          0.013214                    5.0   \n",
       "       2000-09-17             3202.0          0.013214                    5.0   \n",
       "       2000-09-24             3202.0          0.013214                    5.0   \n",
       "       2000-10-01             -121.0         -0.000493                    5.0   \n",
       "       2000-10-08             -121.0         -0.000493                    5.0   \n",
       "       2000-10-15             -121.0         -0.000493                    5.0   \n",
       "       2000-10-22             -121.0         -0.000493                    5.0   \n",
       "       2000-10-29             -121.0         -0.000493                    5.0   \n",
       "       2000-11-05            -1553.0         -0.006328                    5.0   \n",
       "       2000-11-12            -1553.0         -0.006328                    5.0   \n",
       "       2000-11-19            -1553.0         -0.006328                    5.0   \n",
       "       2000-11-26            -1553.0         -0.006328                    5.0   \n",
       "       2000-12-03               -2.0         -0.000008                    5.0   \n",
       "\n",
       "                   us_asset_balance_chg  1y_yield_diff  1y_yield_chg  \n",
       "ticker date                                                           \n",
       "XLB    1999-12-26              0.000008           0.03      0.005059  \n",
       "       2000-01-02              0.000008           0.02      0.003356  \n",
       "       2000-01-09              0.000008           0.02      0.003344  \n",
       "       2000-01-16              0.000008           0.13      0.021667  \n",
       "       2000-01-23              0.000008          -0.01     -0.001631  \n",
       "       2000-01-30              0.000008           0.13      0.021242  \n",
       "       2000-02-06              0.000008          -0.06     -0.009600  \n",
       "       2000-02-13              0.000008          -0.02     -0.003231  \n",
       "       2000-02-20              0.000008           0.09      0.014587  \n",
       "       2000-02-27              0.000008          -0.08     -0.012780  \n",
       "       2000-03-05              0.000008          -0.03     -0.004854  \n",
       "       2000-03-12              0.000008           0.06      0.009756  \n",
       "       2000-03-19              0.000008          -0.01     -0.001610  \n",
       "       2000-03-26              0.000008           0.11      0.017742  \n",
       "       2000-04-02              0.000008          -0.03     -0.004754  \n",
       "       2000-04-09              0.000008          -0.11     -0.017516  \n",
       "       2000-04-16              0.000008          -0.09     -0.014587  \n",
       "       2000-04-23              0.000008           0.04      0.006579  \n",
       "       2000-04-30              0.000008           0.12      0.019608  \n",
       "       2000-05-07              0.000008           0.05      0.008013  \n",
       "       2000-05-14              0.000008           0.15      0.023847  \n",
       "       2000-05-21              0.000008          -0.12     -0.018634  \n",
       "       2000-05-28              0.000008          -0.05     -0.007911  \n",
       "       2000-06-04              0.000008          -0.04     -0.006380  \n",
       "       2000-06-11              0.000008          -0.04     -0.006380  \n",
       "       2000-06-18              0.000008          -0.14     -0.022472  \n",
       "       2000-06-25              0.000008           0.10      0.016420  \n",
       "       2000-07-02              0.000008          -0.11     -0.017771  \n",
       "       2000-07-09              0.000008          -0.01     -0.001645  \n",
       "       2000-07-16              0.000008           0.05      0.008237  \n",
       "       2000-07-23              0.000008          -0.05     -0.008170  \n",
       "       2000-07-30              0.000008          -0.02     -0.003295  \n",
       "       2000-08-06              0.000008           0.03      0.004959  \n",
       "       2000-08-13              0.000008           0.16      0.026316  \n",
       "       2000-08-20              0.000008          -0.05     -0.008013  \n",
       "       2000-08-27              0.000008           0.01      0.001616  \n",
       "       2000-09-03              0.000008          -0.02     -0.003226  \n",
       "       2000-09-10              0.000008           0.01      0.001618  \n",
       "       2000-09-17              0.000008          -0.09     -0.014540  \n",
       "       2000-09-24              0.000008          -0.02     -0.003279  \n",
       "       2000-10-01              0.000008          -0.01     -0.001645  \n",
       "       2000-10-08              0.000008          -0.01     -0.001647  \n",
       "       2000-10-15              0.000008          -0.13     -0.021452  \n",
       "       2000-10-22              0.000008           0.01      0.001686  \n",
       "       2000-10-29              0.000008           0.17      0.028620  \n",
       "       2000-11-05              0.000008           0.02      0.003273  \n",
       "       2000-11-12              0.000008          -0.02     -0.003263  \n",
       "       2000-11-19              0.000008          -0.02     -0.003273  \n",
       "       2000-11-26              0.000008           0.03      0.004926  \n",
       "       2000-12-03              0.000008          -0.19     -0.031046  \n",
       "\n",
       "[50 rows x 89 columns]"
      ]
     },
     "execution_count": 136,
     "metadata": {},
     "output_type": "execute_result"
    }
   ],
   "source": [
    "data.head(50)"
   ]
  },
  {
   "cell_type": "code",
   "execution_count": 137,
   "metadata": {
    "id": "E7auWB1XB7Vi"
   },
   "outputs": [],
   "source": [
    "labels = sorted(data.filter(like=\"target_\").columns)\n",
    "features = data.columns.difference(labels).tolist()\n",
    "label = \"target_1w\""
   ]
  },
  {
   "cell_type": "markdown",
   "metadata": {
    "id": "wNRUbaRuB7Vi"
   },
   "source": [
    "## Model Selection: Lookback, lookahead and roll-forward periods"
   ]
  },
  {
   "cell_type": "code",
   "execution_count": 138,
   "metadata": {
    "id": "cVG3LJmoB7Vj"
   },
   "outputs": [],
   "source": [
    "tickers = data.index.get_level_values(\"ticker\").unique()"
   ]
  },
  {
   "cell_type": "code",
   "execution_count": 139,
   "metadata": {
    "id": "PfOgh3bQB7Vj",
    "outputId": "c0ea1440-2639-4ea6-916e-c6540112c3a4"
   },
   "outputs": [
    {
     "data": {
      "text/plain": [
       "Index(['XLB', 'XLE', 'XLF', 'XLI', 'XLK', 'XLP', 'XLU', 'XLV', 'XLY'], dtype='object', name='ticker')"
      ]
     },
     "execution_count": 139,
     "metadata": {},
     "output_type": "execute_result"
    }
   ],
   "source": [
    "tickers"
   ]
  },
  {
   "cell_type": "code",
   "execution_count": 140,
   "metadata": {
    "id": "q1GWYGbxB7Vj"
   },
   "outputs": [],
   "source": [
    "lookaheads = [1]"
   ]
  },
  {
   "cell_type": "code",
   "execution_count": 141,
   "metadata": {
    "id": "nndyJHlDB7Vj"
   },
   "outputs": [],
   "source": [
    "categoricals = [\"month\", \"sector\"]"
   ]
  },
  {
   "cell_type": "markdown",
   "metadata": {
    "id": "_PbNObs9B7Vj"
   },
   "source": [
    "We select 4.5 and one years as the length of our training periods; test periods are one and three months long. Since we are using 6 years (2012/18) for validation, a one-month test period implies 12x6 folds"
   ]
  },
  {
   "cell_type": "code",
   "execution_count": 142,
   "metadata": {
    "id": "S4KaL0eFB7Vj"
   },
   "outputs": [],
   "source": [
    "train_lengths = [int(4.5 * 12 * 4), 52]  # 4 years and half a year\n",
    "test_lengths = [1, 12]"
   ]
  },
  {
   "cell_type": "code",
   "execution_count": 143,
   "metadata": {
    "id": "xIfSjTvDB7Vj"
   },
   "outputs": [],
   "source": [
    "test_params = list(product(lookaheads, train_lengths, test_lengths))"
   ]
  },
  {
   "cell_type": "code",
   "execution_count": 144,
   "metadata": {
    "id": "4lUYoYRIB7Vk",
    "outputId": "f01e3b78-b1c9-4acb-c8b5-22ed31715f53"
   },
   "outputs": [
    {
     "data": {
      "text/plain": [
       "[(1, 216, 1), (1, 216, 12), (1, 52, 1), (1, 52, 12)]"
      ]
     },
     "execution_count": 144,
     "metadata": {},
     "output_type": "execute_result"
    }
   ],
   "source": [
    "test_params"
   ]
  },
  {
   "cell_type": "markdown",
   "metadata": {
    "id": "Ol9QO-f5B7Vr"
   },
   "source": [
    "## LightGBM Model Tuning"
   ]
  },
  {
   "cell_type": "markdown",
   "metadata": {
    "id": "PbKA9ySrB7Vr"
   },
   "source": [
    "The notebook example iterates over many configurations, optionally using random samples to speed up model selection using a diverse subset. The goal is to identify the most impactful parameters without trying every possible combination."
   ]
  },
  {
   "cell_type": "code",
   "execution_count": 145,
   "metadata": {
    "id": "Kcp6rE3dB7Vr"
   },
   "outputs": [],
   "source": [
    "def get_fi(model):\n",
    "    fi = model.feature_importance(importance_type=\"gain\")\n",
    "    return pd.Series(fi / fi.sum(), index=model.feature_name())"
   ]
  },
  {
   "cell_type": "markdown",
   "metadata": {
    "id": "wI1k-nX8B7Vr"
   },
   "source": [
    "### Hyperparameter Options"
   ]
  },
  {
   "cell_type": "markdown",
   "metadata": {
    "id": "ppGNN2QtB7Vr"
   },
   "source": [
    "The base_params are not affected by cross-validation:"
   ]
  },
  {
   "cell_type": "code",
   "execution_count": 146,
   "metadata": {
    "id": "hDBb4ToHB7Vr"
   },
   "outputs": [],
   "source": [
    "base_params = dict(boosting=\"gbdt\", objective=\"regression\", verbose=-1)"
   ]
  },
  {
   "cell_type": "markdown",
   "metadata": {
    "id": "pYU7cdTyB7Vr"
   },
   "source": [
    "We choose the following parameters and values to select our best model (see book chapter for detail):"
   ]
  },
  {
   "cell_type": "code",
   "execution_count": 147,
   "metadata": {
    "id": "Jbj4nSusB7Vr"
   },
   "outputs": [],
   "source": [
    "learning_rate_ops = [0.01, 0.1, 0.3]\n",
    "max_depths = [2, 3, 5, 7]\n",
    "num_leaves_opts = [2**i for i in max_depths]\n",
    "min_data_in_leaf_opts = [int(250 / 5), int(500 / 5), int(1000 / 5)]\n",
    "feature_fraction_opts = [0.3, 0.6, 0.95]"
   ]
  },
  {
   "cell_type": "code",
   "execution_count": 148,
   "metadata": {},
   "outputs": [
    {
     "name": "stdout",
     "output_type": "stream",
     "text": [
      "learning_rate_ops: [0.01, 0.1, 0.3]\n",
      "max_depths: [2, 3, 5, 7]\n",
      "num_leaves_opts: [4, 8, 32, 128]\n",
      "min_data_in_leaf_opts: [50, 100, 200]\n",
      "feature_fraction_opts: [0.3, 0.6, 0.95]\n"
     ]
    }
   ],
   "source": [
    "print(\"learning_rate_ops:\", learning_rate_ops)\n",
    "print(\"max_depths:\", max_depths)\n",
    "print(\"num_leaves_opts:\", num_leaves_opts)\n",
    "print(\"min_data_in_leaf_opts:\", min_data_in_leaf_opts)\n",
    "print(\"feature_fraction_opts:\", feature_fraction_opts)"
   ]
  },
  {
   "cell_type": "code",
   "execution_count": 149,
   "metadata": {
    "id": "XL9LK911B7Vs"
   },
   "outputs": [],
   "source": [
    "param_names = [\"learning_rate\", \"num_leaves\", \"feature_fraction\", \"min_data_in_leaf\"]"
   ]
  },
  {
   "cell_type": "code",
   "execution_count": 150,
   "metadata": {
    "id": "V59sK03mB7Vs",
    "outputId": "bfa1b24b-fda6-47ad-8a12-067fb2ce0130"
   },
   "outputs": [
    {
     "name": "stdout",
     "output_type": "stream",
     "text": [
      "# Parameters: 108\n"
     ]
    }
   ],
   "source": [
    "cv_params = list(\n",
    "    product(\n",
    "        learning_rate_ops, num_leaves_opts, feature_fraction_opts, min_data_in_leaf_opts\n",
    "    )\n",
    ")\n",
    "n_params = len(cv_params)\n",
    "print(f\"# Parameters: {n_params}\")"
   ]
  },
  {
   "cell_type": "markdown",
   "metadata": {
    "id": "h7m7tFshB7Vs"
   },
   "source": [
    "### Train/Test Period Lengths"
   ]
  },
  {
   "cell_type": "code",
   "execution_count": 151,
   "metadata": {
    "id": "hWvIHXKkB7Vt",
    "outputId": "06afc56c-17f0-44e8-cbc7-de75c6ab7187"
   },
   "outputs": [
    {
     "name": "stdout",
     "output_type": "stream",
     "text": [
      "Train configs: 4\n"
     ]
    }
   ],
   "source": [
    "test_params = list(product(lookaheads, train_lengths, test_lengths))\n",
    "n = len(test_params)\n",
    "test_param_sample = np.random.choice(list(range(n)), size=int(n), replace=False)\n",
    "test_params = [test_params[i] for i in test_param_sample]\n",
    "print(\"Train configs:\", len(test_params))"
   ]
  },
  {
   "cell_type": "code",
   "execution_count": 152,
   "metadata": {
    "id": "3_nxW6ovB7Vt",
    "outputId": "98ef0e37-9e46-4ef0-d6cb-73fe5ec0b491"
   },
   "outputs": [
    {
     "data": {
      "text/plain": [
       "[(1, 216, 12), (1, 52, 12), (1, 216, 1), (1, 52, 1)]"
      ]
     },
     "execution_count": 152,
     "metadata": {},
     "output_type": "execute_result"
    }
   ],
   "source": [
    "test_params"
   ]
  },
  {
   "cell_type": "markdown",
   "metadata": {
    "id": "Zkm4jgeGB7Vu"
   },
   "source": [
    "### Categorical Variables"
   ]
  },
  {
   "cell_type": "code",
   "execution_count": 153,
   "metadata": {
    "id": "lAfl9UFUB7Vu"
   },
   "outputs": [],
   "source": [
    "categoricals = [\"month\", \"sector\"]\n",
    "for feature in categoricals:\n",
    "    data[feature] = pd.factorize(data[feature], sort=True)[0]"
   ]
  },
  {
   "cell_type": "markdown",
   "metadata": {
    "id": "W0btRiwiB7Vu"
   },
   "source": [
    "### Custom Loss Function: Information Coefficient"
   ]
  },
  {
   "cell_type": "code",
   "execution_count": 154,
   "metadata": {
    "id": "JfRlesY_B7Vu"
   },
   "outputs": [],
   "source": [
    "def ic_lgbm(preds, train_data):\n",
    "    \"\"\"Custom IC eval metric for lightgbm\"\"\"\n",
    "    is_higher_better = True\n",
    "    return \"ic\", spearmanr(preds, train_data.get_label())[0], is_higher_better"
   ]
  },
  {
   "cell_type": "markdown",
   "metadata": {
    "id": "55WC5Z5bB7Vu"
   },
   "source": [
    "### Run Cross-Validation"
   ]
  },
  {
   "cell_type": "code",
   "execution_count": 155,
   "metadata": {
    "id": "bDDyP8GgB7Vu",
    "outputId": "53561089-5151-422c-d0e8-73a9edccf08e"
   },
   "outputs": [
    {
     "name": "stdout",
     "output_type": "stream",
     "text": [
      "No se encontró el archivo ../data/results/us_stocks/tuning_lgb.h5.\n"
     ]
    }
   ],
   "source": [
    "if borrado == True:\n",
    "    lgb_store = Path(results_path / \"tuning_lgb.h5\")\n",
    "\n",
    "    # Comprueba si el archivo existe\n",
    "    if lgb_store.exists():\n",
    "        # Elimina el archivo\n",
    "        os.remove(lgb_store)\n",
    "        print(f\"El archivo {lgb_store} ha sido eliminado.\")\n",
    "    else:\n",
    "        print(f\"No se encontró el archivo {lgb_store}.\")"
   ]
  },
  {
   "cell_type": "code",
   "execution_count": 156,
   "metadata": {
    "id": "IJ_WyD-vB7Vv"
   },
   "outputs": [],
   "source": [
    "lgb_store = Path(results_path / \"tuning_lgb.h5\")"
   ]
  },
  {
   "cell_type": "code",
   "execution_count": 157,
   "metadata": {
    "id": "ReKhRFISB7Vv"
   },
   "outputs": [],
   "source": [
    "labels = sorted(data.filter(like=\"target\").columns)\n",
    "features = data.columns.difference(labels).tolist()"
   ]
  },
  {
   "cell_type": "code",
   "execution_count": 158,
   "metadata": {
    "id": "QWyne9ecB7Vv",
    "outputId": "682e24f9-0a7f-4b93-bf9f-542b0139d9ab"
   },
   "outputs": [
    {
     "data": {
      "text/plain": [
       "['target_12w', 'target_1w', 'target_2w', 'target_3w', 'target_6w']"
      ]
     },
     "execution_count": 158,
     "metadata": {},
     "output_type": "execute_result"
    }
   ],
   "source": [
    "labels"
   ]
  },
  {
   "cell_type": "code",
   "execution_count": 159,
   "metadata": {
    "id": "5iJQ6IWlB7Vv",
    "outputId": "d1bec579-0aca-4308-b9fb-66d6244b5e83"
   },
   "outputs": [
    {
     "data": {
      "text/plain": [
       "['1y_yield',\n",
       " '1y_yield_chg',\n",
       " '1y_yield_diff',\n",
       " 'CMA',\n",
       " 'CMA_diff',\n",
       " 'HML',\n",
       " 'HML_diff',\n",
       " 'Mkt-RF',\n",
       " 'Mkt-RF_diff',\n",
       " 'RMW',\n",
       " 'RMW_diff',\n",
       " 'SMB',\n",
       " 'SMB_diff',\n",
       " 'const',\n",
       " 'const_diff',\n",
       " 'corp_oas',\n",
       " 'corp_oas_chg',\n",
       " 'corp_oas_diff',\n",
       " 'empleo_chg',\n",
       " 'empleo_diff',\n",
       " 'eu_hy_oas',\n",
       " 'eu_hy_oas_chg',\n",
       " 'eu_hy_oas_diff',\n",
       " 'hy_oas',\n",
       " 'hy_oas_chg',\n",
       " 'hy_oas_diff',\n",
       " 'inflacion',\n",
       " 'inflacion_chg',\n",
       " 'inflacion_diff',\n",
       " 'leading',\n",
       " 'leading_chg',\n",
       " 'leading_diff',\n",
       " 'momentum_12',\n",
       " 'momentum_2',\n",
       " 'momentum_3',\n",
       " 'momentum_3_12',\n",
       " 'momentum_52',\n",
       " 'momentum_6',\n",
       " 'month',\n",
       " 'oil',\n",
       " 'oil_chg',\n",
       " 'oil_diff',\n",
       " 'real_gdp',\n",
       " 'real_gdp_chg',\n",
       " 'real_gdp_diff',\n",
       " 'recession',\n",
       " 'recession_chg',\n",
       " 'recession_diff',\n",
       " 'retail_sales',\n",
       " 'retail_sales_chg',\n",
       " 'retail_sales_diff',\n",
       " 'retail_sales_percent',\n",
       " 'retail_sales_percent_chg',\n",
       " 'retail_sales_percent_diff',\n",
       " 'return_12w',\n",
       " 'return_1w',\n",
       " 'return_1w_t-1',\n",
       " 'return_1w_t-2',\n",
       " 'return_1w_t-3',\n",
       " 'return_1w_t-4',\n",
       " 'return_1w_t-5',\n",
       " 'return_1w_t-6',\n",
       " 'return_2w',\n",
       " 'return_3w',\n",
       " 'return_52w',\n",
       " 'return_6w',\n",
       " 'sector',\n",
       " 'sentiment',\n",
       " 'sentiment_chg',\n",
       " 'sentiment_diff',\n",
       " 'us_asset_balance_chg',\n",
       " 'us_asset_balance_diff',\n",
       " 'vix',\n",
       " 'vix_chg',\n",
       " 'vix_diff',\n",
       " 'vixoil',\n",
       " 'vixoil_chg',\n",
       " 'vixoil_diff',\n",
       " 'weekjobclaims',\n",
       " 'weekjobclaims_chg',\n",
       " 'weekjobclaims_diff',\n",
       " 'yield_curve',\n",
       " 'yield_curve_chg',\n",
       " 'yield_curve_diff']"
      ]
     },
     "execution_count": 159,
     "metadata": {},
     "output_type": "execute_result"
    }
   ],
   "source": [
    "features"
   ]
  },
  {
   "cell_type": "code",
   "execution_count": 160,
   "metadata": {
    "id": "GI41_VxbB7Vw"
   },
   "outputs": [],
   "source": [
    "num_iterations = [50, 100]\n",
    "num_boost_round = num_iterations[-1]"
   ]
  },
  {
   "cell_type": "code",
   "execution_count": 161,
   "metadata": {
    "id": "epfiiW-3B7Vx"
   },
   "outputs": [],
   "source": [
    "metric_cols = (\n",
    "    param_names\n",
    "    + [\"t\", \"daily_ic_mean\", \"daily_ic_mean_n\", \"daily_ic_median\", \"daily_ic_median_n\"]\n",
    "    + [str(n) for n in num_iterations]\n",
    ")"
   ]
  },
  {
   "cell_type": "code",
   "execution_count": 162,
   "metadata": {
    "id": "rwmcFLPUB7Vy",
    "outputId": "55126b3d-2c3d-4430-8c78-b57114660382"
   },
   "outputs": [
    {
     "data": {
      "text/plain": [
       "['learning_rate',\n",
       " 'num_leaves',\n",
       " 'feature_fraction',\n",
       " 'min_data_in_leaf',\n",
       " 't',\n",
       " 'daily_ic_mean',\n",
       " 'daily_ic_mean_n',\n",
       " 'daily_ic_median',\n",
       " 'daily_ic_median_n',\n",
       " '50',\n",
       " '100']"
      ]
     },
     "execution_count": 162,
     "metadata": {},
     "output_type": "execute_result"
    }
   ],
   "source": [
    "metric_cols"
   ]
  },
  {
   "cell_type": "markdown",
   "metadata": {
    "id": "gmY6hLBhB7Vz"
   },
   "source": [
    "We iterate over our six CV configurations and collect the resulting metrics:"
   ]
  },
  {
   "cell_type": "code",
   "execution_count": null,
   "metadata": {
    "id": "7Zq7hedKB7Vz",
    "outputId": "0622ddf5-3a25-440e-92eb-b2389a0431ed"
   },
   "outputs": [
    {
     "name": "stdout",
     "output_type": "stream",
     "text": [
      "Lookahead:  1 | Train: 216 | Test: 12 | Params:  54 | Train configs: 4\n",
      "\t  0 | 00:00:04 (  4) |  0.10 |   4 | 60% |  100 |   2.70% |  0.25% |  100 |  1.67% |  100\n",
      "\t  1 | 00:00:10 (  6) |  0.10 | 128 | 30% |  200 |   3.38% |  0.23% |  100 |  1.67% |   50\n",
      "\t  2 | 00:00:14 (  4) |  0.01 |   4 | 60% |  100 |   0.83% | -1.88% |  100 |  0.00% |   50\n",
      "\t  3 | 00:00:20 (  6) |  0.10 |   8 | 30% |  200 |   3.35% |  0.73% |  100 |  3.33% |  100\n",
      "\t  4 | 00:00:24 (  4) |  0.10 |   4 | 95% |   50 |   2.44% |  0.86% |  100 |  0.00% |   50\n",
      "\t  5 | 00:00:46 ( 21) |  0.10 | 128 | 95% |   50 |   0.83% |  1.48% |  100 |  2.50% |  100\n",
      "\t  6 | 00:00:52 (  6) |  0.01 |  32 | 95% |  200 |   0.95% | -0.37% |   50 |  0.00% |   50\n",
      "\t  7 | 00:00:58 (  6) |  0.01 |   8 | 30% |  200 |   4.80% | -2.17% |   50 | -0.89% |   50\n",
      "\t  8 | 00:01:04 (  7) |  0.01 |   8 | 30% |  100 |   3.50% | -2.57% |  100 | -1.69% |  100\n",
      "\t  9 | 00:01:08 (  4) |  0.10 |   4 | 95% |  200 |   3.72% |  1.49% |  100 |  1.67% |  100\n",
      "\t 10 | 00:01:12 (  4) |  0.30 |   4 | 30% |  100 |   3.37% |  1.90% |  100 |  3.33% |  100\n",
      "\t 11 | 00:01:23 ( 10) |  0.10 |  32 | 30% |  100 |   5.25% |  2.09% |  100 |  3.33% |  100\n",
      "\t 12 | 00:01:29 (  6) |  0.10 | 128 | 60% |  200 |   4.52% |  2.41% |  100 |  1.68% |   50\n",
      "\t 13 | 00:01:41 ( 11) |  0.30 |  32 | 95% |  100 |   3.79% |  3.80% |   50 |  1.67% |   50\n",
      "\t 14 | 00:01:44 (  4) |  0.01 |   4 | 30% |   50 |  -0.45% | -1.63% |   50 | -1.00% |   50\n",
      "\t 15 | 00:02:02 ( 18) |  0.01 |  32 | 30% |   50 |   2.50% | -0.51% |  100 | -1.67% |  100\n",
      "\t 16 | 00:02:08 (  6) |  0.10 |   8 | 95% |  200 |   3.78% |  0.53% |  100 |  1.67% |  100\n",
      "\t 17 | 00:02:12 (  4) |  0.30 |   4 | 95% |  200 |   5.33% |  1.62% |   50 |  1.70% |   50\n",
      "\t 18 | 00:02:24 ( 11) |  0.30 | 128 | 60% |  100 |   5.27% |  1.51% |  100 |  1.67% |  100\n",
      "\t 19 | 00:02:34 ( 10) |  0.30 |  32 | 30% |  100 |   2.64% |  4.41% |   50 |  5.00% |   50\n",
      "\t 20 | 00:02:38 (  4) |  0.10 |   4 | 30% |   50 |   1.46% |  1.44% |  100 |  1.71% |  100\n",
      "\t 21 | 00:02:45 (  7) |  0.01 |   8 | 60% |   50 |  -1.05% | -1.27% |  100 |  0.00% |   50\n",
      "\t 22 | 00:02:55 ( 10) |  0.01 | 128 | 60% |  100 |   3.21% |  0.04% |  100 |  1.68% |   50\n",
      "\t 23 | 00:03:15 ( 20) |  0.10 | 128 | 60% |   50 |   1.95% |  2.55% |  100 |  3.33% |   50\n",
      "\t 24 | 00:03:34 ( 19) |  0.30 |  32 | 30% |   50 |   2.88% |  2.70% |  100 |  5.00% |  100\n",
      "\t 25 | 00:03:40 (  6) |  0.10 |  32 | 95% |  200 |   3.22% |  0.54% |  100 |  0.42% |   50\n",
      "\t 26 | 00:03:51 ( 10) |  0.01 |  32 | 60% |  100 |   3.21% |  0.04% |  100 |  1.68% |   50\n",
      "\t 27 | 00:03:57 (  7) |  0.30 |   8 | 60% |  100 |   6.17% |  3.87% |   50 |  6.67% |   50\n",
      "\t 28 | 00:04:04 (  7) |  0.30 |   8 | 30% |   50 |   5.29% |  3.90% |   50 |  5.83% |   50\n",
      "\t 29 | 00:04:08 (  4) |  0.30 |   4 | 60% |  200 |   5.44% |  1.83% |   50 |  2.93% |   50\n",
      "\t 30 | 00:04:15 (  7) |  0.01 |   8 | 95% |   50 |  -1.38% | -2.74% |  100 | -4.56% |  100\n",
      "\t 31 | 00:04:35 ( 19) |  0.01 | 128 | 60% |   50 |   0.46% | -0.86% |   50 |  0.00% |   50\n",
      "\t 32 | 00:04:41 (  7) |  0.10 |   8 | 30% |   50 |   3.78% |  1.45% |  100 |  0.00% |  100\n",
      "\t 33 | 00:04:48 (  7) |  0.01 |   8 | 30% |   50 |   0.92% | -2.69% |  100 | -2.57% |  100\n",
      "\t 34 | 00:05:08 ( 20) |  0.01 | 128 | 95% |   50 |  -2.73% |  0.93% |  100 |  1.77% |  100\n",
      "\t 35 | 00:05:13 (  6) |  0.10 |  32 | 30% |  200 |   3.38% |  0.23% |  100 |  1.67% |   50\n",
      "\t 36 | 00:05:24 ( 10) |  0.10 | 128 | 30% |  100 |   5.25% |  2.09% |  100 |  3.33% |  100\n",
      "\t 37 | 00:05:34 ( 10) |  0.01 | 128 | 30% |  100 |   4.32% | -1.37% |  100 | -1.67% |   50\n",
      "\t 38 | 00:05:38 (  4) |  0.30 |   4 | 95% |  100 |   5.45% |  5.56% |   50 |  6.68% |   50\n",
      "\t 39 | 00:05:42 (  4) |  0.01 |   4 | 60% |  200 |   1.64% | -1.37% |   50 |  0.00% |   50\n",
      "\t 40 | 00:05:48 (  7) |  0.30 | 128 | 95% |  200 |   6.11% |  4.54% |  100 |  6.67% |  100\n",
      "\t 41 | 00:06:00 ( 12) |  0.10 | 128 | 95% |  100 |   3.63% |  3.52% |  100 |  2.50% |  100\n",
      "\t 42 | 00:06:04 (  4) |  0.10 |   4 | 60% |   50 |   2.53% |  1.97% |  100 |  2.75% |  100\n",
      "\t 43 | 00:06:11 (  6) |  0.01 | 128 | 95% |  200 |   0.95% | -0.37% |   50 |  0.00% |   50\n",
      "\t 44 | 00:06:18 (  7) |  0.01 |   8 | 95% |  100 |   0.28% |  0.66% |   50 |  0.00% |   50\n",
      "\t 45 | 00:06:39 ( 21) |  0.30 | 128 | 95% |   50 |   3.45% |  3.22% |   50 |  5.00% |   50\n",
      "\t 46 | 00:06:50 ( 11) |  0.01 | 128 | 95% |  100 |   1.46% |  0.03% |   50 |  3.16% |  100\n",
      "\t 47 | 00:06:57 (  7) |  0.10 |   8 | 95% |   50 |   1.66% |  1.76% |   50 |  3.33% |  100\n",
      "\t 48 | 00:07:01 (  4) |  0.01 |   4 | 95% |  100 |   0.42% | -1.38% |  100 |  0.00% |   50\n",
      "\t 49 | 00:07:05 (  4) |  0.10 |   4 | 95% |  100 |   2.57% |  3.13% |  100 |  3.69% |  100\n",
      "\t 50 | 00:07:17 ( 11) |  0.10 | 128 | 60% |  100 |   5.09% |  1.16% |  100 |  1.67% |   50\n",
      "\t 51 | 00:07:36 ( 20) |  0.30 | 128 | 30% |   50 |   1.72% |  2.07% |  100 |  1.67% |   50\n",
      "\t 52 | 00:07:55 ( 19) |  0.01 | 128 | 30% |   50 |   2.50% | -0.42% |  100 | -1.67% |  100\n",
      "\t 53 | 00:08:05 ( 10) |  0.01 |  32 | 30% |  100 |   4.32% | -1.37% |  100 | -1.67% |   50\n",
      "Lookahead:  1 | Train:  52 | Test: 12 | Params:  54 | Train configs: 4\n",
      "\t  0 | 00:00:05 (  5) |  0.01 |   8 | 95% |   50 |  -0.34% |  1.10% |   50 |  0.00% |   50\n",
      "\t  1 | 00:00:10 (  5) |  0.01 |   8 | 30% |   50 |   1.76% | -1.94% |   50 | -5.02% |   50\n",
      "\t  2 | 00:00:13 (  3) |  0.30 | 128 | 30% |  100 |  -0.82% |  2.02% |   50 |  3.33% |   50\n",
      "\t  3 | 00:00:18 (  5) |  0.30 |   8 | 30% |   50 |   1.31% |  0.60% |   50 |  0.00% |   50\n",
      "\t  4 | 00:00:20 (  2) |  0.10 | 128 | 60% |  200 |  -2.13% | -0.37% |  100 |  0.00% |   50\n",
      "\t  5 | 00:00:22 (  2) |  0.30 |  32 | 60% |  200 |  -2.45% |  0.22% |  100 | -0.84% |   50\n",
      "\t  6 | 00:00:23 (  2) |  0.10 |  32 | 60% |  200 |  -2.13% | -0.37% |  100 |  0.00% |   50\n",
      "\t  7 | 00:00:25 (  2) |  0.01 |   8 | 95% |  200 |   1.04% | -5.23% |  100 |  0.00% |   50\n",
      "\t  8 | 00:00:28 (  3) |  0.10 |   8 | 60% |  100 |   0.76% |  0.74% |  100 |  0.84% |   50\n",
      "\t  9 | 00:00:31 (  3) |  0.10 |   4 | 30% |  100 |   1.10% |  1.58% |  100 |  3.33% |  100\n",
      "\t 10 | 00:00:36 (  5) |  0.30 | 128 | 30% |   50 |   1.29% |  0.68% |   50 |  0.00% |   50\n",
      "\t 11 | 00:00:38 (  2) |  0.01 |  32 | 30% |  200 |   1.96% | -2.52% |   50 |  0.00% |   50\n",
      "\t 12 | 00:00:40 (  2) |  0.10 | 128 | 30% |  200 |  -1.78% | -0.29% |  100 |  0.00% |  100\n",
      "\t 13 | 00:00:45 (  5) |  0.10 |   8 | 60% |   50 |  -1.11% |  0.65% |   50 |  0.83% |   50\n",
      "\t 14 | 00:00:47 (  3) |  0.30 |   4 | 30% |  100 |  -0.82% |  2.02% |   50 |  3.33% |   50\n",
      "\t 15 | 00:00:50 (  3) |  0.30 |  32 | 30% |  100 |  -0.82% |  2.02% |   50 |  3.33% |   50\n",
      "\t 16 | 00:00:55 (  5) |  0.01 |  32 | 30% |   50 |   1.76% | -1.95% |   50 | -5.04% |   50\n",
      "\t 17 | 00:00:58 (  3) |  0.30 |   8 | 30% |  100 |  -0.82% |  2.02% |   50 |  3.33% |   50\n",
      "\t 18 | 00:00:60 (  2) |  0.30 |   8 | 60% |  200 |  -2.45% |  0.22% |  100 | -0.84% |   50\n",
      "\t 19 | 00:01:03 (  3) |  0.10 |   4 | 60% |   50 |  -0.27% |  1.21% |  100 |  1.67% |  100\n",
      "\t 20 | 00:01:08 (  5) |  0.10 |  32 | 95% |   50 |   0.42% |  1.94% |   50 |  3.33% |   50\n",
      "\t 21 | 00:01:10 (  2) |  0.30 | 128 | 30% |  200 |  -1.82% |  0.23% |   50 |  0.84% |   50\n",
      "\t 22 | 00:01:11 (  2) |  0.30 |  32 | 95% |  200 |  -2.45% |  1.08% |  100 |  1.67% |  100\n",
      "\t 23 | 00:01:16 (  5) |  0.01 | 128 | 60% |   50 |  -0.57% | -2.25% |  100 | -2.92% |  100\n",
      "\t 24 | 00:01:19 (  3) |  0.01 |  32 | 95% |  100 |   1.05% |  1.12% |   50 |  0.00% |   50\n",
      "\t 25 | 00:01:22 (  3) |  0.01 |   8 | 95% |  100 |   1.05% |  1.12% |   50 |  0.00% |   50\n",
      "\t 26 | 00:01:27 (  5) |  0.10 | 128 | 30% |   50 |   0.57% |  2.07% |  100 |  3.33% |  100\n",
      "\t 27 | 00:01:30 (  3) |  0.30 |   8 | 95% |  100 |   0.39% |  2.33% |   50 |  3.33% |   50\n",
      "\t 28 | 00:01:32 (  3) |  0.30 |  32 | 95% |  100 |   0.39% |  2.33% |   50 |  3.33% |   50\n",
      "\t 29 | 00:01:34 (  2) |  0.30 |   4 | 30% |  200 |  -1.82% |  0.23% |   50 |  0.84% |   50\n",
      "\t 30 | 00:01:37 (  3) |  0.10 | 128 | 60% |  100 |   0.76% |  0.74% |  100 |  0.84% |   50\n",
      "\t 31 | 00:01:40 (  3) |  0.10 | 128 | 95% |  100 |  -0.11% |  0.29% |  100 |  3.33% |  100\n",
      "\t 32 | 00:01:42 (  2) |  0.01 |  32 | 60% |  200 |   1.27% | -1.12% |   50 |  0.00% |   50\n",
      "\t 33 | 00:01:44 (  2) |  0.30 |  32 | 30% |  200 |  -1.82% |  0.23% |   50 |  0.84% |   50\n",
      "\t 34 | 00:01:46 (  3) |  0.30 |   4 | 95% |  100 |   0.39% |  2.33% |   50 |  3.33% |   50\n",
      "\t 35 | 00:01:52 (  5) |  0.10 | 128 | 95% |   50 |   0.42% |  1.94% |   50 |  3.33% |   50\n",
      "\t 36 | 00:01:54 (  3) |  0.01 |   4 | 95% |  100 |   1.05% |  1.12% |   50 |  0.00% |   50\n",
      "\t 37 | 00:01:57 (  3) |  0.10 |  32 | 30% |  100 |   1.10% |  1.58% |  100 |  3.33% |  100\n",
      "\t 38 | 00:02:02 (  5) |  0.10 |   8 | 30% |   50 |   0.52% |  2.35% |  100 |  3.33% |  100\n",
      "\t 39 | 00:02:07 (  5) |  0.30 |   8 | 60% |   50 |   1.10% |  2.05% |  100 |  2.50% |  100\n",
      "\t 40 | 00:02:10 (  3) |  0.30 | 128 | 60% |  100 |   0.34% |  1.99% |  100 |  3.33% |  100\n",
      "\t 41 | 00:02:15 (  5) |  0.10 | 128 | 60% |   50 |  -1.30% |  0.50% |   50 |  0.00% |   50\n",
      "\t 42 | 00:02:16 (  2) |  0.30 |   4 | 95% |  200 |  -2.45% |  1.08% |  100 |  1.67% |  100\n",
      "\t 43 | 00:02:18 (  2) |  0.30 |   8 | 30% |  200 |  -1.82% |  0.23% |   50 |  0.84% |   50\n",
      "\t 44 | 00:02:23 (  5) |  0.30 |  32 | 95% |   50 |   0.37% |  2.01% |   50 |  3.33% |   50\n",
      "\t 45 | 00:02:25 (  2) |  0.10 |   4 | 30% |  200 |  -1.78% | -0.29% |  100 |  0.00% |  100\n",
      "\t 46 | 00:02:30 (  5) |  0.01 |  32 | 95% |   50 |  -0.34% |  1.10% |   50 |  0.00% |   50\n",
      "\t 47 | 00:02:32 (  2) |  0.10 |   8 | 95% |  200 |  -1.81% | -0.64% |  100 |  0.00% |   50\n",
      "\t 48 | 00:02:35 (  3) |  0.01 |   8 | 30% |  100 |   1.79% | -0.29% |  100 |  0.00% |  100\n",
      "\t 49 | 00:02:37 (  2) |  0.01 | 128 | 30% |  200 |   1.96% | -2.52% |   50 |  0.00% |   50\n",
      "\t 50 | 00:02:40 (  3) |  0.01 |  32 | 30% |  100 |   1.79% | -0.29% |  100 |  0.00% |  100\n",
      "\t 51 | 00:02:45 (  5) |  0.10 |  32 | 60% |   50 |  -1.30% |  0.50% |   50 |  0.00% |   50\n",
      "\t 52 | 00:02:50 (  5) |  0.30 |  32 | 30% |   50 |   1.29% |  0.68% |   50 |  0.00% |   50\n",
      "\t 53 | 00:02:55 (  5) |  0.10 |  32 | 30% |   50 |   0.57% |  2.07% |  100 |  3.33% |  100\n",
      "Lookahead:  1 | Train: 216 | Test:  1 | Params:  54 | Train configs: 4\n"
     ]
    }
   ],
   "source": [
    "for lookahead, train_length, test_length in test_params:\n",
    "    # randomized grid search\n",
    "    cvp = np.random.choice(list(range(n_params)), size=int(n_params / 2), replace=False)\n",
    "    cv_params_ = [cv_params[i] for i in cvp]\n",
    "\n",
    "    # set up cross-validatio. years_val serán los años de validación\n",
    "    n_splits = int(YEAR * years_val / test_length)  # modificado\n",
    "    print(\n",
    "        f\"Lookahead: {lookahead:2.0f} | \"\n",
    "        f\"Train: {train_length:3.0f} | \"\n",
    "        f\"Test: {test_length:2.0f} | \"\n",
    "        f\"Params: {len(cv_params_):3.0f} | \"\n",
    "        f\"Train configs: {len(test_params)}\"\n",
    "    )\n",
    "\n",
    "    # time-series cross-validation\n",
    "    cv = MultipleTimeSeriesCV(\n",
    "        n_splits=n_splits,\n",
    "        lookahead=lookahead,\n",
    "        test_period_length=test_length,\n",
    "        train_period_length=train_length,\n",
    "    )\n",
    "\n",
    "    # label = label_dict[lookahead] modificado para no liar\n",
    "    label = label\n",
    "    outcome_data = data.loc[:, features + [label]].dropna()\n",
    "\n",
    "    # binary dataset\n",
    "    lgb_data = lgb.Dataset(\n",
    "        data=outcome_data.drop(label, axis=1),\n",
    "        label=outcome_data[label],\n",
    "        categorical_feature=categoricals,\n",
    "        free_raw_data=False,\n",
    "    )\n",
    "    T = 0\n",
    "    predictions, metrics, feature_importance, daily_ic = [], [], [], []\n",
    "\n",
    "    # iterate over (shuffled) hyperparameter combinations\n",
    "    for p, param_vals in enumerate(cv_params_):\n",
    "        key = f\"{lookahead}/{train_length}/{test_length}/\" + \"/\".join(\n",
    "            [str(p) for p in param_vals]\n",
    "        )\n",
    "        params = dict(zip(param_names, param_vals))\n",
    "        params.update(base_params)\n",
    "\n",
    "        start = time()\n",
    "        cv_preds, nrounds = [], []\n",
    "        ic_cv = defaultdict(list)\n",
    "\n",
    "        # iterate over folds\n",
    "        for i, (train_idx, test_idx) in enumerate(cv.split(X=outcome_data)):\n",
    "\n",
    "            # select train subset\n",
    "            lgb_train = lgb_data.subset(\n",
    "                used_indices=train_idx.tolist(), params=params\n",
    "            ).construct()\n",
    "\n",
    "            # train model for num_boost_round\n",
    "            model = lgb.train(\n",
    "                params=params, train_set=lgb_train, num_boost_round=num_boost_round\n",
    "            )\n",
    "            # log feature importance\n",
    "            if i == 0:\n",
    "                fi = get_fi(model).to_frame()\n",
    "            else:\n",
    "                fi[i] = get_fi(model)\n",
    "\n",
    "            # capture predictions\n",
    "            test_set = outcome_data.iloc[test_idx, :]\n",
    "            X_test = test_set.loc[:, model.feature_name()]\n",
    "            y_test = test_set.loc[:, label]\n",
    "            y_pred = {\n",
    "                str(n): model.predict(X_test, num_iteration=n) for n in num_iterations\n",
    "            }\n",
    "\n",
    "            # record predictions for each fold\n",
    "            cv_preds.append(y_test.to_frame(\"y_test\").assign(**y_pred).assign(i=i))\n",
    "\n",
    "        # combine fold results\n",
    "        cv_preds = pd.concat(cv_preds).assign(**params)\n",
    "        predictions.append(cv_preds)\n",
    "\n",
    "        # compute IC per day\n",
    "        by_day = cv_preds.groupby(level=\"date\")\n",
    "        ic_by_day = pd.concat(\n",
    "            [\n",
    "                by_day.apply(lambda x: spearmanr(x.y_test, x[str(n)])[0]).to_frame(n)\n",
    "                for n in num_iterations\n",
    "            ],\n",
    "            axis=1,\n",
    "        )\n",
    "        daily_ic_mean = ic_by_day.mean()\n",
    "        daily_ic_mean_n = daily_ic_mean.idxmax()\n",
    "        daily_ic_median = ic_by_day.median()\n",
    "        daily_ic_median_n = daily_ic_median.idxmax()\n",
    "\n",
    "        # compute IC across all predictions\n",
    "        ic = [spearmanr(cv_preds.y_test, cv_preds[str(n)])[0] for n in num_iterations]\n",
    "        t = time() - start\n",
    "        T += t\n",
    "\n",
    "        # collect metrics\n",
    "        metrics = pd.Series(\n",
    "            list(param_vals)\n",
    "            + [\n",
    "                t,\n",
    "                daily_ic_mean.max(),\n",
    "                daily_ic_mean_n,\n",
    "                daily_ic_median.max(),\n",
    "                daily_ic_median_n,\n",
    "            ]\n",
    "            + ic,\n",
    "            index=metric_cols,\n",
    "        )\n",
    "        msg = f'\\t{p:3.0f} | {format_time(T)} ({t:3.0f}) | {params[\"learning_rate\"]:5.2f} | '\n",
    "        msg += f'{params[\"num_leaves\"]:3.0f} | {params[\"feature_fraction\"]:3.0%} | {params[\"min_data_in_leaf\"]:4.0f} | '\n",
    "        msg += f\" {max(ic):6.2%} | {ic_by_day.mean().max(): 6.2%} | {daily_ic_mean_n: 4.0f} | {ic_by_day.median().max(): 6.2%} | {daily_ic_median_n: 4.0f}\"\n",
    "        print(msg)\n",
    "\n",
    "        # persist results for given CV run and hyperparameter combination\n",
    "        metrics.to_hdf(lgb_store, \"metrics/\" + key)\n",
    "        ic_by_day.assign(**params).to_hdf(lgb_store, \"daily_ic/\" + key)\n",
    "        fi.T.describe().T.assign(**params).to_hdf(lgb_store, \"fi/\" + key)\n",
    "        cv_preds.to_hdf(lgb_store, \"predictions/\" + key)"
   ]
  },
  {
   "cell_type": "code",
   "execution_count": null,
   "metadata": {
    "id": "SJ4jiLgFB7Vz",
    "outputId": "a361e667-7f01-4ba4-cf20-b9ed4fec1457"
   },
   "outputs": [],
   "source": [
    "# Para ver los datos en sí, puedes convertir el conjunto de datos a un DataFrame de pandas\n",
    "df = pd.DataFrame(lgb_train.data)\n",
    "print(df.tail(100))"
   ]
  },
  {
   "cell_type": "markdown",
   "metadata": {
    "id": "j7CD9L0fB7V0"
   },
   "source": [
    "## LightGBM Random Forest Model Tuning"
   ]
  },
  {
   "cell_type": "markdown",
   "metadata": {
    "id": "eV1MpyftB7V0"
   },
   "source": [
    "Helper function to obtain the LightGBM feature importance metrics:"
   ]
  },
  {
   "cell_type": "markdown",
   "metadata": {
    "id": "vfs5A5kQB7V0"
   },
   "source": [
    "The notebook example iterates over many configurations, optionally using random samples to speed up model selection using a diverse subset. The goal is to identify the most impactful parameters without trying every possible combination."
   ]
  },
  {
   "cell_type": "code",
   "execution_count": null,
   "metadata": {
    "id": "N2aeDUxGB7V1"
   },
   "outputs": [],
   "source": [
    "def get_fi(model):\n",
    "    fi = model.feature_importance(importance_type=\"gain\")\n",
    "    return pd.Series(fi / fi.sum(), index=model.feature_name())"
   ]
  },
  {
   "cell_type": "markdown",
   "metadata": {
    "id": "o-5lICvMB7V1"
   },
   "source": [
    "### Hyperparameter Options"
   ]
  },
  {
   "cell_type": "markdown",
   "metadata": {
    "id": "cE-Dvi82B7V1"
   },
   "source": [
    "The base_params are not affected by cross-validation:"
   ]
  },
  {
   "cell_type": "code",
   "execution_count": null,
   "metadata": {
    "id": "5Rai_jl7B7V1"
   },
   "outputs": [],
   "source": [
    "base_params = dict(\n",
    "    boosting_type=\"rf\", objective=\"regression\", bagging_freq=1, verbose=-1\n",
    ")"
   ]
  },
  {
   "cell_type": "code",
   "execution_count": null,
   "metadata": {
    "id": "ioBXM5RVB7V1"
   },
   "outputs": [],
   "source": [
    "# Asumiendo que data es tu conjunto de datos\n",
    "n_samples = data.shape[0]\n",
    "\n",
    "# Establece min_data_in_leaf como un porcentaje del total de muestras\n",
    "min_data_in_leaf_op0 = max(\n",
    "    1, int(n_samples * 0.01)\n",
    ")  # 1% del total de muestras, mínimo 1"
   ]
  },
  {
   "cell_type": "code",
   "execution_count": null,
   "metadata": {
    "id": "AD-slvmrB7V1",
    "outputId": "d706a998-344f-4a49-8bdf-476efd002fb3"
   },
   "outputs": [],
   "source": [
    "min_data_in_leaf_op0"
   ]
  },
  {
   "cell_type": "markdown",
   "metadata": {
    "id": "fgwQn2dXB7V2"
   },
   "source": [
    "We choose the following parameters and values to select our best model (see book chapter for detail):"
   ]
  },
  {
   "cell_type": "code",
   "execution_count": null,
   "metadata": {
    "id": "x3zmqPf3B7V2"
   },
   "outputs": [],
   "source": [
    "bagging_fraction_opts = [0.75, 0.95]\n",
    "feature_fraction_opts = [0.75, 0.95]\n",
    "min_data_in_leaf_opts = [int(250 / 22), int(500 / 22), int(1000 / 22)]\n",
    "min_data_in_leaf_opts = [min_data_in_leaf_op0, int(500 / 5), int(1000 / 5)]\n",
    "max_depth_opts = [5, 10, -1]"
   ]
  },
  {
   "cell_type": "code",
   "execution_count": null,
   "metadata": {},
   "outputs": [],
   "source": [
    "# Imprime los valores de los hiperparámetros utilizados para Random Forest-LightGBM\n",
    "print(\"bagging_fraction_opts:\", bagging_fraction_opts)\n",
    "print(\"feature_fraction_opts:\", feature_fraction_opts)\n",
    "print(\"min_data_in_leaf_opts:\", min_data_in_leaf_opts)\n",
    "print(\"max_depth_opts:\", max_depth_opts)"
   ]
  },
  {
   "cell_type": "code",
   "execution_count": null,
   "metadata": {
    "id": "QkvCiN98B7V2"
   },
   "outputs": [],
   "source": [
    "param_names = [\"bagging_fraction\", \"feature_fraction\", \"min_data_in_leaf\", \"max_depth\"]"
   ]
  },
  {
   "cell_type": "code",
   "execution_count": null,
   "metadata": {
    "id": "H3fxC-ZVB7V2",
    "outputId": "5048cee6-86f7-4e24-94af-590d5b025523"
   },
   "outputs": [],
   "source": [
    "cv_params = list(\n",
    "    product(\n",
    "        bagging_fraction_opts,\n",
    "        feature_fraction_opts,\n",
    "        min_data_in_leaf_opts,\n",
    "        max_depth_opts,\n",
    "    )\n",
    ")\n",
    "n_params = len(cv_params)\n",
    "print(f\"# Parameters: {n_params}\")"
   ]
  },
  {
   "cell_type": "markdown",
   "metadata": {
    "id": "ELTAzf9uB7V3"
   },
   "source": [
    "### Train/Test Period Lengths"
   ]
  },
  {
   "cell_type": "code",
   "execution_count": null,
   "metadata": {
    "id": "hzaBXKRcB7V3",
    "outputId": "26d413d5-c1d7-4327-d7ad-c762065404c2"
   },
   "outputs": [],
   "source": [
    "test_params = list(product(lookaheads, train_lengths, test_lengths))\n",
    "n = len(test_params)\n",
    "test_param_sample = np.random.choice(list(range(n)), size=int(n), replace=False)\n",
    "test_params = [test_params[i] for i in test_param_sample]\n",
    "print(\"Train configs:\", len(test_params))"
   ]
  },
  {
   "cell_type": "markdown",
   "metadata": {
    "id": "IuUcVM2CB7V3"
   },
   "source": [
    "### Categorical Variables"
   ]
  },
  {
   "cell_type": "code",
   "execution_count": null,
   "metadata": {
    "id": "Fo-ZCIOLB7V4"
   },
   "outputs": [],
   "source": [
    "categoricals = [\"month\", \"sector\"]\n",
    "for feature in categoricals:\n",
    "    data[feature] = pd.factorize(data[feature], sort=True)[0]"
   ]
  },
  {
   "cell_type": "markdown",
   "metadata": {
    "id": "B8xfhofUB7V4"
   },
   "source": [
    "### Custom Loss Function: Information Coefficient"
   ]
  },
  {
   "cell_type": "code",
   "execution_count": null,
   "metadata": {
    "id": "qLGxdaCSB7V4"
   },
   "outputs": [],
   "source": [
    "def ic_rf(preds, train_data):\n",
    "    \"\"\"Custom IC eval metric for lightgbm\"\"\"\n",
    "    is_higher_better = True\n",
    "    return \"ic\", spearmanr(preds, train_data.get_label())[0], is_higher_better"
   ]
  },
  {
   "cell_type": "markdown",
   "metadata": {
    "id": "UhTvIoYpB7V4"
   },
   "source": [
    "### Run Cross-Validation"
   ]
  },
  {
   "cell_type": "code",
   "execution_count": null,
   "metadata": {
    "id": "faOy0nswB7V4",
    "outputId": "c43a7cba-4634-4690-eb1b-5f457c671232"
   },
   "outputs": [],
   "source": [
    "rf_store = Path(results_path / \"tuning_rf.h5\")\n",
    "\n",
    "# Comprueba si el archivo existe\n",
    "if rf_store.exists():\n",
    "    # Elimina el archivo\n",
    "    os.remove(rf_store)\n",
    "    print(f\"El archivo {rf_store} ha sido eliminado.\")\n",
    "else:\n",
    "    print(f\"No se encontró el archivo {rf_store}.\")"
   ]
  },
  {
   "cell_type": "code",
   "execution_count": null,
   "metadata": {
    "id": "ski4LpDYB7V4"
   },
   "outputs": [],
   "source": [
    "rf_store = Path(results_path / \"tuning_rf.h5\")"
   ]
  },
  {
   "cell_type": "code",
   "execution_count": null,
   "metadata": {
    "id": "wlB7fD_BB7V4"
   },
   "outputs": [],
   "source": [
    "labels = sorted(data.filter(like=\"target\").columns)\n",
    "features = data.columns.difference(labels).tolist()"
   ]
  },
  {
   "cell_type": "code",
   "execution_count": null,
   "metadata": {
    "id": "BMNXx5wUB7V5",
    "outputId": "78af1978-c5ad-4733-98a1-a16c75542eff"
   },
   "outputs": [],
   "source": [
    "labels"
   ]
  },
  {
   "cell_type": "code",
   "execution_count": null,
   "metadata": {
    "id": "cpx8i9TxB7V5",
    "outputId": "985122a6-2a19-436f-94c5-7dab560ff793"
   },
   "outputs": [],
   "source": [
    "features"
   ]
  },
  {
   "cell_type": "code",
   "execution_count": null,
   "metadata": {
    "id": "VxkcopU1B7V6"
   },
   "outputs": [],
   "source": [
    "num_iterations = [50, 100]\n",
    "num_boost_round = num_iterations[-1]"
   ]
  },
  {
   "cell_type": "code",
   "execution_count": null,
   "metadata": {
    "id": "9gUz-8xKB7V6",
    "outputId": "702ea817-bc38-4488-974d-82f54f05aca8"
   },
   "outputs": [],
   "source": [
    "num_iterations"
   ]
  },
  {
   "cell_type": "code",
   "execution_count": null,
   "metadata": {
    "id": "W-Nhfry2B7V6",
    "outputId": "dc010fa2-c5b8-420e-8ce4-348bebdd645b"
   },
   "outputs": [],
   "source": [
    "num_boost_round"
   ]
  },
  {
   "cell_type": "code",
   "execution_count": null,
   "metadata": {
    "id": "k2RcefeCB7V6"
   },
   "outputs": [],
   "source": [
    "metric_cols = (\n",
    "    param_names\n",
    "    + [\"t\", \"daily_ic_mean\", \"daily_ic_mean_n\", \"daily_ic_median\", \"daily_ic_median_n\"]\n",
    "    + [str(n) for n in num_iterations]\n",
    ")"
   ]
  },
  {
   "cell_type": "code",
   "execution_count": null,
   "metadata": {
    "id": "8a9o9Zg4B7V7",
    "outputId": "75faf55b-fb83-4572-c32a-14d163d32e91"
   },
   "outputs": [],
   "source": [
    "metric_cols"
   ]
  },
  {
   "cell_type": "markdown",
   "metadata": {
    "id": "BmpdeeYUB7V7"
   },
   "source": [
    "Now we take the following steps:\n",
    "- we iterate over the prediction horizons and train/test period length,\n",
    "- set up the `MultipleTimeSeriesCV` accordingly\n",
    "- create the binary LightGBM dataset with the appropriate target, and\n",
    "- iterate over the model hyperparamters to train and validate the model while capturing the relevant performance metrics:"
   ]
  },
  {
   "cell_type": "code",
   "execution_count": null,
   "metadata": {
    "id": "-vEDGf7CB7V7",
    "outputId": "62ad16e0-4c00-4cca-f340-ecfc2a9d9a06"
   },
   "outputs": [],
   "source": [
    "for lookahead, train_length, test_length in test_params:\n",
    "    # randomized grid search\n",
    "    cvp = np.random.choice(list(range(n_params)), size=int(n_params / 2), replace=False)\n",
    "    cv_params_ = [cv_params[i] for i in cvp]\n",
    "\n",
    "    # set up cross-validatio. years_val serán los años de validación\n",
    "    n_splits = int(YEAR * years_val / test_length)  # modificado\n",
    "    print(\n",
    "        f\"Lookahead: {lookahead:2.0f} | \"\n",
    "        f\"Train: {train_length:3.0f} | \"\n",
    "        f\"Test: {test_length:2.0f} | \"\n",
    "        f\"Params: {len(cv_params_):3.0f} | \"\n",
    "        f\"Train configs: {len(test_params)}\"\n",
    "    )\n",
    "\n",
    "    # time-series cross-validation\n",
    "    cv = MultipleTimeSeriesCV(\n",
    "        n_splits=n_splits,\n",
    "        lookahead=lookahead,\n",
    "        test_period_length=test_length,\n",
    "        train_period_length=train_length,\n",
    "    )\n",
    "\n",
    "    # label = label_dict[lookahead]\n",
    "    label = label  # modificado\n",
    "    outcome_data = data.loc[:, features + [label]].dropna()\n",
    "\n",
    "    # binary dataset\n",
    "    lgb_data = lgb.Dataset(\n",
    "        data=outcome_data.drop(label, axis=1),\n",
    "        label=outcome_data[label],\n",
    "        categorical_feature=categoricals,\n",
    "        free_raw_data=False,\n",
    "    )\n",
    "    T = 0\n",
    "    predictions, metrics, feature_importance, daily_ic = [], [], [], []\n",
    "\n",
    "    # iterate over (shuffled) hyperparameter combinations\n",
    "    for p, param_vals in enumerate(cv_params_):\n",
    "        key = f\"{lookahead}/{train_length}/{test_length}/\" + \"/\".join(\n",
    "            [str(p) for p in param_vals]\n",
    "        )\n",
    "        params = dict(zip(param_names, param_vals))\n",
    "        params.update(base_params)\n",
    "\n",
    "        start = time()\n",
    "        cv_preds, nrounds = [], []\n",
    "        ic_cv = defaultdict(list)\n",
    "\n",
    "        # iterate over folds\n",
    "        for i, (train_idx, test_idx) in enumerate(cv.split(X=outcome_data)):\n",
    "\n",
    "            # select train subset\n",
    "            lgb_train = lgb_data.subset(\n",
    "                used_indices=train_idx.tolist(), params=params\n",
    "            ).construct()\n",
    "\n",
    "            # train model for num_boost_round\n",
    "            model = lgb.train(\n",
    "                params=params, train_set=lgb_train, num_boost_round=num_boost_round\n",
    "            )\n",
    "            # log feature importance\n",
    "            if i == 0:\n",
    "                fi = get_fi(model).to_frame()\n",
    "            else:\n",
    "                fi[i] = get_fi(model)\n",
    "\n",
    "            # capture predictions\n",
    "            test_set = outcome_data.iloc[test_idx, :]\n",
    "            X_test = test_set.loc[:, model.feature_name()]\n",
    "            y_test = test_set.loc[:, label]\n",
    "            y_pred = {\n",
    "                str(n): model.predict(X_test, num_iteration=n) for n in num_iterations\n",
    "            }\n",
    "\n",
    "            # record predictions for each fold\n",
    "            cv_preds.append(y_test.to_frame(\"y_test\").assign(**y_pred).assign(i=i))\n",
    "\n",
    "        # combine fold results\n",
    "        cv_preds = pd.concat(cv_preds).assign(**params)\n",
    "        predictions.append(cv_preds)\n",
    "\n",
    "        # compute IC per day\n",
    "        by_day = cv_preds.groupby(level=\"date\")\n",
    "        ic_by_day = pd.concat(\n",
    "            [\n",
    "                by_day.apply(lambda x: spearmanr(x.y_test, x[str(n)])[0]).to_frame(n)\n",
    "                for n in num_iterations\n",
    "            ],\n",
    "            axis=1,\n",
    "        )\n",
    "        daily_ic_mean = ic_by_day.mean()\n",
    "        daily_ic_mean_n = daily_ic_mean.idxmax()\n",
    "        daily_ic_median = ic_by_day.median()\n",
    "        daily_ic_median_n = daily_ic_median.idxmax()\n",
    "\n",
    "        # compute IC across all predictions\n",
    "        ic = [spearmanr(cv_preds.y_test, cv_preds[str(n)])[0] for n in num_iterations]\n",
    "        t = time() - start\n",
    "        T += t\n",
    "\n",
    "        # collect metrics\n",
    "        metrics = pd.Series(\n",
    "            list(param_vals)\n",
    "            + [\n",
    "                t,\n",
    "                daily_ic_mean.max(),\n",
    "                daily_ic_mean_n,\n",
    "                daily_ic_median.max(),\n",
    "                daily_ic_median_n,\n",
    "            ]\n",
    "            + ic,\n",
    "            index=metric_cols,\n",
    "        )\n",
    "        msg = f'\\t{p:3.0f} | {format_time(T)} ({t:3.0f}) | {params[\"bagging_fraction\"]:5.2f} | '\n",
    "        msg += f' {params[\"feature_fraction\"]:3.0%} | {params[\"min_data_in_leaf\"]:4.0f} |  {params[\"max_depth\"]:4.0f} |'\n",
    "        msg += f\" {max(ic):6.2%} | {ic_by_day.mean().max(): 6.2%} | {daily_ic_mean_n: 4.0f} | {ic_by_day.median().max(): 6.2%} | {daily_ic_median_n: 4.0f} |\"\n",
    "\n",
    "        print(msg)\n",
    "\n",
    "        # persist results for given CV run and hyperparameter combination\n",
    "        metrics.to_hdf(rf_store, \"metrics/\" + key)\n",
    "        ic_by_day.assign(**params).to_hdf(rf_store, \"daily_ic/\" + key)\n",
    "        fi.T.describe().T.assign(**params).to_hdf(rf_store, \"fi/\" + key)\n",
    "        cv_preds.to_hdf(rf_store, \"predictions/\" + key)"
   ]
  },
  {
   "cell_type": "code",
   "execution_count": null,
   "metadata": {
    "id": "gOxYJnsGB7V8",
    "outputId": "26519601-8338-43c2-8179-832c5348ae59"
   },
   "outputs": [],
   "source": [
    "cv_preds.y_test"
   ]
  },
  {
   "cell_type": "code",
   "execution_count": null,
   "metadata": {
    "id": "-Vundhd6B7V8",
    "outputId": "2bac0c83-ce9c-45ad-f043-4e4049028c65"
   },
   "outputs": [],
   "source": [
    "cv_preds[str(50)].tail(20)"
   ]
  },
  {
   "cell_type": "code",
   "execution_count": null,
   "metadata": {
    "id": "3jILUlHOB7V8",
    "outputId": "aaddd0b4-69a3-4d94-8afb-a29de6e8d7e9"
   },
   "outputs": [],
   "source": [
    "y_pred"
   ]
  },
  {
   "cell_type": "code",
   "execution_count": null,
   "metadata": {
    "id": "bYnp6eAQB7V8",
    "outputId": "3dd5caac-150d-4f47-9328-b676ec5d43b9"
   },
   "outputs": [],
   "source": [
    "X_test"
   ]
  },
  {
   "cell_type": "code",
   "execution_count": null,
   "metadata": {
    "id": "BAdET8eZB7V9",
    "outputId": "57c5789d-8c01-49a5-ddeb-551541dd5dc6"
   },
   "outputs": [],
   "source": [
    "lgb_train"
   ]
  },
  {
   "cell_type": "code",
   "execution_count": null,
   "metadata": {
    "id": "XZupuvtpB7V9",
    "outputId": "a29ea558-a1ff-4631-b84e-5fc44800c654"
   },
   "outputs": [],
   "source": [
    "data.sector"
   ]
  }
 ],
 "metadata": {
  "colab": {
   "provenance": []
  },
  "kernelspec": {
   "display_name": ".venv",
   "language": "python",
   "name": "python3"
  },
  "language_info": {
   "codemirror_mode": {
    "name": "ipython",
    "version": 3
   },
   "file_extension": ".py",
   "mimetype": "text/x-python",
   "name": "python",
   "nbconvert_exporter": "python",
   "pygments_lexer": "ipython3",
   "version": "3.11.11"
  },
  "toc": {
   "base_numbering": 1,
   "nav_menu": {},
   "number_sections": true,
   "sideBar": true,
   "skip_h1_title": true,
   "title_cell": "Table of Contents",
   "title_sidebar": "Contents",
   "toc_cell": false,
   "toc_position": {
    "height": "calc(100% - 180px)",
    "left": "10px",
    "top": "150px",
    "width": "374.162px"
   },
   "toc_section_display": true,
   "toc_window_display": true
  }
 },
 "nbformat": 4,
 "nbformat_minor": 0
}
